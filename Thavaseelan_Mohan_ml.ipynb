{
 "cells": [
  {
   "cell_type": "markdown",
   "metadata": {
    "application/vnd.databricks.v1+cell": {
     "cellMetadata": {
      "byteLimit": 2048000,
      "rowLimit": 10000
     },
     "inputWidgets": {},
     "nuid": "96355376-ea50-412c-a213-02691e0e4408",
     "showTitle": false,
     "title": ""
    }
   },
   "source": [
    "## Game Recommendation using ML - Collaborative filtering - Implicit Feedback system"
   ]
  },
  {
   "cell_type": "code",
   "execution_count": 0,
   "metadata": {
    "application/vnd.databricks.v1+cell": {
     "cellMetadata": {
      "byteLimit": 2048000,
      "rowLimit": 10000
     },
     "inputWidgets": {},
     "nuid": "ffef7df5-8706-46c3-b36f-04b39623feab",
     "showTitle": false,
     "title": ""
    }
   },
   "outputs": [],
   "source": [
    "from pyspark.sql.types import *\n",
    "import re\n",
    "from pyspark.sql.functions import *\n",
    "from pyspark.sql.window import *\n",
    "import pandas as pd\n",
    "import matplotlib.pyplot as plt\n",
    "pd.options.plotting.backend = \"plotly\"\n",
    "import plotly.express as px\n",
    "import mlflow\n",
    "mlflow.pyspark.ml.autolog()\n",
    "from pyspark.ml.recommendation import ALS\n",
    "from pyspark.ml.tuning import ParamGridBuilder, CrossValidator\n",
    "from pyspark.ml.evaluation import RegressionEvaluator"
   ]
  },
  {
   "cell_type": "code",
   "execution_count": 0,
   "metadata": {
    "application/vnd.databricks.v1+cell": {
     "cellMetadata": {
      "byteLimit": 2048000,
      "rowLimit": 10000
     },
     "inputWidgets": {},
     "nuid": "4ccfa15d-64e1-4fde-a141-8dae6ecd4f2e",
     "showTitle": false,
     "title": ""
    }
   },
   "outputs": [
    {
     "output_type": "stream",
     "name": "stdout",
     "output_type": "stream",
     "text": [
      "Out[52]: [FileInfo(path='dbfs:/FileStore/tables/clinicaltrial_2020.csv', name='clinicaltrial_2020.csv', size=46318151, modificationTime=1709758602000),\n FileInfo(path='dbfs:/FileStore/tables/clinicaltrial_2020.zip', name='clinicaltrial_2020.zip', size=10599182, modificationTime=1709758582000),\n FileInfo(path='dbfs:/FileStore/tables/clinicaltrial_2021.csv', name='clinicaltrial_2021.csv', size=50359696, modificationTime=1712329235000),\n FileInfo(path='dbfs:/FileStore/tables/clinicaltrial_2021.zip', name='clinicaltrial_2021.zip', size=11508457, modificationTime=1709757022000),\n FileInfo(path='dbfs:/FileStore/tables/clinicaltrial_2023-1.zip', name='clinicaltrial_2023-1.zip', size=57166668, modificationTime=1710259254000),\n FileInfo(path='dbfs:/FileStore/tables/clinicaltrial_2023.csv', name='clinicaltrial_2023.csv', size=292436366, modificationTime=1712319782000),\n FileInfo(path='dbfs:/FileStore/tables/clinicaltrial_2023.zip', name='clinicaltrial_2023.zip', size=57166668, modificationTime=1709573283000),\n FileInfo(path='dbfs:/FileStore/tables/movies.csv', name='movies.csv', size=494431, modificationTime=1709743602000),\n FileInfo(path='dbfs:/FileStore/tables/myratings.csv', name='myratings.csv', size=10698, modificationTime=1709743601000),\n FileInfo(path='dbfs:/FileStore/tables/pharma.csv', name='pharma.csv', size=678999, modificationTime=1712329236000),\n FileInfo(path='dbfs:/FileStore/tables/pharma.zip', name='pharma.zip', size=109982, modificationTime=1709573397000),\n FileInfo(path='dbfs:/FileStore/tables/ratings.csv', name='ratings.csv', size=2483723, modificationTime=1709743602000),\n FileInfo(path='dbfs:/FileStore/tables/steam_200k.csv', name='steam_200k.csv', size=8059447, modificationTime=1712167538000)]"
     ]
    }
   ],
   "source": [
    "dbutils.fs.ls(\"FileStore/tables\")"
   ]
  },
  {
   "cell_type": "markdown",
   "metadata": {
    "application/vnd.databricks.v1+cell": {
     "cellMetadata": {
      "byteLimit": 2048000,
      "rowLimit": 10000
     },
     "inputWidgets": {},
     "nuid": "1617b25e-9984-4a89-a782-d1db5d4fc917",
     "showTitle": false,
     "title": ""
    }
   },
   "source": [
    "## Data Acquisition"
   ]
  },
  {
   "cell_type": "code",
   "execution_count": 0,
   "metadata": {
    "application/vnd.databricks.v1+cell": {
     "cellMetadata": {
      "byteLimit": 2048000,
      "rowLimit": 10000
     },
     "inputWidgets": {},
     "nuid": "132d6091-e66b-422f-ac59-268c3cc659e0",
     "showTitle": false,
     "title": ""
    }
   },
   "outputs": [],
   "source": [
    "df_stream = spark.read.csv(\"/FileStore/tables/steam_200k.csv\", sep=',',header=False, inferSchema=True)\n",
    "rdd_stream = df_stream.rdd\n",
    "rdd_stream1 = rdd_stream.map(lambda x : x).collect()\n",
    "RDD_Games_Unique_ID = rdd_stream.map(lambda x : x[1])\\\n",
    "                           .distinct()\\\n",
    "                           .zipWithIndex()\\\n",
    "                           .collect()"
   ]
  },
  {
   "cell_type": "code",
   "execution_count": 0,
   "metadata": {
    "application/vnd.databricks.v1+cell": {
     "cellMetadata": {
      "byteLimit": 2048000,
      "rowLimit": 10000
     },
     "inputWidgets": {},
     "nuid": "9f4661c2-3070-4b30-8b9a-9a238543965c",
     "showTitle": false,
     "title": ""
    }
   },
   "outputs": [
    {
     "output_type": "stream",
     "name": "stdout",
     "output_type": "stream",
     "text": [
      "Out[54]: [Row(_c0=151603712, _c1='The Elder Scrolls V Skyrim', _c2='purchase', _c3=1.0),\n Row(_c0=151603712, _c1='The Elder Scrolls V Skyrim', _c2='play', _c3=273.0),\n Row(_c0=151603712, _c1='Fallout 4', _c2='purchase', _c3=1.0),\n Row(_c0=151603712, _c1='Fallout 4', _c2='play', _c3=87.0),\n Row(_c0=151603712, _c1='Spore', _c2='purchase', _c3=1.0)]"
     ]
    }
   ],
   "source": [
    "df_stream.head(5)"
   ]
  },
  {
   "cell_type": "code",
   "execution_count": 0,
   "metadata": {
    "application/vnd.databricks.v1+cell": {
     "cellMetadata": {
      "byteLimit": 2048000,
      "rowLimit": 10000
     },
     "inputWidgets": {},
     "nuid": "6a225c63-d59a-4c5c-97cf-3e9ec24dfd30",
     "showTitle": false,
     "title": ""
    }
   },
   "outputs": [
    {
     "output_type": "stream",
     "name": "stdout",
     "output_type": "stream",
     "text": [
      "Out[55]: [Row(_c0=128470551, _c1='Titan Souls', _c2='play', _c3=1.5),\n Row(_c0=128470551, _c1='Grand Theft Auto Vice City', _c2='purchase', _c3=1.0),\n Row(_c0=128470551, _c1='Grand Theft Auto Vice City', _c2='play', _c3=1.5),\n Row(_c0=128470551, _c1='RUSH', _c2='purchase', _c3=1.0),\n Row(_c0=128470551, _c1='RUSH', _c2='play', _c3=1.4)]"
     ]
    }
   ],
   "source": [
    "df_stream.tail(5)"
   ]
  },
  {
   "cell_type": "markdown",
   "metadata": {
    "application/vnd.databricks.v1+cell": {
     "cellMetadata": {
      "byteLimit": 2048000,
      "rowLimit": 10000
     },
     "inputWidgets": {},
     "nuid": "2bfab271-31cc-49cf-ad13-8d215ff4d02d",
     "showTitle": false,
     "title": ""
    }
   },
   "source": [
    "#Creating DataFrame and assigning unique Game ID"
   ]
  },
  {
   "cell_type": "code",
   "execution_count": 0,
   "metadata": {
    "application/vnd.databricks.v1+cell": {
     "cellMetadata": {
      "byteLimit": 2048000,
      "rowLimit": 10000
     },
     "inputWidgets": {},
     "nuid": "c4db3237-4e45-48a0-8e6d-c455db9830ee",
     "showTitle": false,
     "title": ""
    }
   },
   "outputs": [],
   "source": [
    "Schema = StructType([\n",
    "        StructField(\"UserID\", IntegerType()),\n",
    "        StructField(\"GameName\", StringType()),\n",
    "        StructField(\"Behaviour\", StringType()),\n",
    "        StructField(\"Hours\", FloatType())\n",
    "])\n",
    "RDD_Stream = rdd_stream.map(lambda x : x)\n",
    "#display(RDD_Stream)\n",
    "Stream_DF = spark.createDataFrame(RDD_Stream,Schema)\n",
    "# Added a unique ID in dataframe using row_number window function. It ranges from 1 to 200000 i.e., total number of records\n",
    "window_function = Window.orderBy(\"GameName\")\n",
    "Stream_DF = Stream_DF.withColumn(\"Game_ID\", dense_rank().over(window_function))\n",
    "window_function1 = Window.orderBy(\"UserID\")\n",
    "Stream_DF = Stream_DF.withColumn(\"UserID_Unique\", dense_rank().over(window_function1))"
   ]
  },
  {
   "cell_type": "markdown",
   "metadata": {
    "application/vnd.databricks.v1+cell": {
     "cellMetadata": {
      "byteLimit": 2048000,
      "rowLimit": 10000
     },
     "inputWidgets": {},
     "nuid": "130b7c42-d13c-4894-9e46-e5fdbf01d72b",
     "showTitle": false,
     "title": ""
    }
   },
   "source": [
    "##Exploratory Data Analysis"
   ]
  },
  {
   "cell_type": "code",
   "execution_count": 0,
   "metadata": {
    "application/vnd.databricks.v1+cell": {
     "cellMetadata": {
      "byteLimit": 2048000,
      "rowLimit": 10000
     },
     "inputWidgets": {},
     "nuid": "2ce8567b-674a-4368-98fa-c985ad8a55f7",
     "showTitle": false,
     "title": ""
    }
   },
   "outputs": [
    {
     "output_type": "display_data",
     "data": {
      "text/html": [
       "<style scoped>\n",
       "  .table-result-container {\n",
       "    max-height: 300px;\n",
       "    overflow: auto;\n",
       "  }\n",
       "  table, th, td {\n",
       "    border: 1px solid black;\n",
       "    border-collapse: collapse;\n",
       "  }\n",
       "  th, td {\n",
       "    padding: 5px;\n",
       "  }\n",
       "  th {\n",
       "    text-align: left;\n",
       "  }\n",
       "</style><div class='table-result-container'><table class='table-result'><thead style='background-color: white'><tr><th>summary</th><th>UserID</th><th>GameName</th><th>Behaviour</th><th>Hours</th><th>Game_ID</th><th>UserID_Unique</th></tr></thead><tbody><tr><td>count</td><td>200000</td><td>200000</td><td>200000</td><td>200000</td><td>200000</td><td>200000</td></tr><tr><td>mean</td><td>1.0365586594664E8</td><td>140.0</td><td>null</td><td>17.874384000420385</td><td>2490.26983</td><td>3663.387275</td></tr><tr><td>stddev</td><td>7.208073512913981E7</td><td>0.0</td><td>null</td><td>138.05695165082625</td><td>1473.1175655862046</td><td>3127.408514708799</td></tr><tr><td>min</td><td>5250</td><td>007 Legends</td><td>play</td><td>0.1</td><td>1</td><td>1</td></tr><tr><td>max</td><td>309903146</td><td>theHunter Primal</td><td>purchase</td><td>11754.0</td><td>5155</td><td>12393</td></tr></tbody></table></div>"
      ]
     },
     "metadata": {
      "application/vnd.databricks.v1+output": {
       "addedWidgets": {},
       "aggData": [],
       "aggError": "",
       "aggOverflow": false,
       "aggSchema": [],
       "aggSeriesLimitReached": false,
       "aggType": "",
       "arguments": {},
       "columnCustomDisplayInfos": {},
       "data": [
        [
         "count",
         "200000",
         "200000",
         "200000",
         "200000",
         "200000",
         "200000"
        ],
        [
         "mean",
         "1.0365586594664E8",
         "140.0",
         null,
         "17.874384000420385",
         "2490.26983",
         "3663.387275"
        ],
        [
         "stddev",
         "7.208073512913981E7",
         "0.0",
         null,
         "138.05695165082625",
         "1473.1175655862046",
         "3127.408514708799"
        ],
        [
         "min",
         "5250",
         "007 Legends",
         "play",
         "0.1",
         "1",
         "1"
        ],
        [
         "max",
         "309903146",
         "theHunter Primal",
         "purchase",
         "11754.0",
         "5155",
         "12393"
        ]
       ],
       "datasetInfos": [],
       "dbfsResultPath": null,
       "isJsonSchema": true,
       "metadata": {},
       "overflow": false,
       "plotOptions": {
        "customPlotOptions": {},
        "displayType": "table",
        "pivotAggregation": null,
        "pivotColumns": null,
        "xColumns": null,
        "yColumns": null
       },
       "removedWidgets": [],
       "schema": [
        {
         "metadata": "{}",
         "name": "summary",
         "type": "\"string\""
        },
        {
         "metadata": "{}",
         "name": "UserID",
         "type": "\"string\""
        },
        {
         "metadata": "{}",
         "name": "GameName",
         "type": "\"string\""
        },
        {
         "metadata": "{}",
         "name": "Behaviour",
         "type": "\"string\""
        },
        {
         "metadata": "{}",
         "name": "Hours",
         "type": "\"string\""
        },
        {
         "metadata": "{}",
         "name": "Game_ID",
         "type": "\"string\""
        },
        {
         "metadata": "{}",
         "name": "UserID_Unique",
         "type": "\"string\""
        }
       ],
       "type": "table"
      }
     },
     "output_type": "display_data"
    }
   ],
   "source": [
    "Stream_DF.describe().display()"
   ]
  },
  {
   "cell_type": "code",
   "execution_count": 0,
   "metadata": {
    "application/vnd.databricks.v1+cell": {
     "cellMetadata": {
      "byteLimit": 2048000,
      "rowLimit": 10000
     },
     "inputWidgets": {},
     "nuid": "5c230201-b697-491e-810d-9fc8426f1839",
     "showTitle": false,
     "title": ""
    }
   },
   "outputs": [
    {
     "output_type": "stream",
     "name": "stdout",
     "output_type": "stream",
     "text": [
      "Out[58]: [Row(UserID=5250, GameName='Cities Skylines', Behaviour='purchase', Hours=1.0, Game_ID=853, UserID_Unique=1),\n Row(UserID=5250, GameName='Day of Defeat', Behaviour='purchase', Hours=1.0, Game_ID=1132, UserID_Unique=1),\n Row(UserID=5250, GameName='Cities Skylines', Behaviour='play', Hours=144.0, Game_ID=853, UserID_Unique=1),\n Row(UserID=5250, GameName='Alien Swarm', Behaviour='play', Hours=4.900000095367432, Game_ID=228, UserID_Unique=1),\n Row(UserID=5250, GameName='Counter-Strike', Behaviour='purchase', Hours=1.0, Game_ID=979, UserID_Unique=1)]"
     ]
    }
   ],
   "source": [
    "Stream_DF.head(5)"
   ]
  },
  {
   "cell_type": "code",
   "execution_count": 0,
   "metadata": {
    "application/vnd.databricks.v1+cell": {
     "cellMetadata": {
      "byteLimit": 2048000,
      "rowLimit": 10000
     },
     "inputWidgets": {},
     "nuid": "da49e5bb-dd57-4bcb-b115-87f78fe89564",
     "showTitle": false,
     "title": ""
    }
   },
   "outputs": [
    {
     "output_type": "stream",
     "name": "stdout",
     "output_type": "stream",
     "text": [
      "Out[59]: [Row(UserID=309812026, GameName='Robocraft', Behaviour='purchase', Hours=1.0, Game_ID=3563, UserID_Unique=12391),\n Row(UserID=309824202, GameName='Dota 2', Behaviour='purchase', Hours=1.0, Game_ID=1337, UserID_Unique=12392),\n Row(UserID=309824202, GameName='Dota 2', Behaviour='play', Hours=0.699999988079071, Game_ID=1337, UserID_Unique=12392),\n Row(UserID=309903146, GameName='Dota 2', Behaviour='purchase', Hours=1.0, Game_ID=1337, UserID_Unique=12393),\n Row(UserID=309903146, GameName='Dota 2', Behaviour='play', Hours=0.20000000298023224, Game_ID=1337, UserID_Unique=12393)]"
     ]
    }
   ],
   "source": [
    "Stream_DF.tail(5)"
   ]
  },
  {
   "cell_type": "code",
   "execution_count": 0,
   "metadata": {
    "application/vnd.databricks.v1+cell": {
     "cellMetadata": {
      "byteLimit": 2048000,
      "rowLimit": 10000
     },
     "inputWidgets": {},
     "nuid": "8ed8637a-010b-4655-8e9c-3911bd1721cc",
     "showTitle": false,
     "title": ""
    }
   },
   "outputs": [
    {
     "output_type": "stream",
     "name": "stdout",
     "output_type": "stream",
     "text": [
      "No.of Record count is: 200000\nDistinct Members in file is: 12393\nDistinct games in file is:  5155\nTotal no.of play is : 70489\nTotal no.of purchase is : 129511\n"
     ]
    }
   ],
   "source": [
    "Stream_Record_Count = rdd_stream.count()\n",
    "RDD_Distinct_Members = rdd_stream.map(lambda x : x[0])\\\n",
    "                           .distinct()\\\n",
    "                           .count()\n",
    "RDD_Distinct_Games = rdd_stream.map(lambda x : x[1])\\\n",
    "                           .distinct()\\\n",
    "                           .zipWithIndex()\\\n",
    "                           .count()\n",
    "RDD_Play = rdd_stream.map(lambda x : (x[0] , x[2]))\\\n",
    "                     .filter(lambda x : x[1].lower().strip()=='play')\\\n",
    "                     .count()\n",
    "RDD_Purchase = rdd_stream.map(lambda x : (x[0] , x[2]))\\\n",
    "                     .filter(lambda x : x[1].lower().strip()=='purchase')\\\n",
    "                     .count()\n",
    "RDD_Play_Members = rdd_stream.map(lambda x : (x[0] , x[2]))\\\n",
    "                     .filter(lambda x : x[1].lower().strip()=='play')\\\n",
    "                     .map(lambda x : x[0])\\\n",
    "                     .distinct()\\\n",
    "                     .collect()\n",
    "RDD_Purchase_Members = rdd_stream.map(lambda x : (x[0] , x[2]))\\\n",
    "                     .filter(lambda x : x[1].lower().strip()=='purchase')\\\n",
    "                     .map(lambda x : x[0])\\\n",
    "                     .distinct()\\\n",
    "                     .collect()\n",
    "RDD_play_Mem = sc.parallelize(RDD_Play_Members)\n",
    "RDD_purchase_Mem = sc.parallelize(RDD_Purchase_Members)\n",
    "common_members = RDD_play_Mem.union(RDD_purchase_Mem).count()\n",
    "Only_purchase = RDD_purchase_Mem.subtract(RDD_play_Mem).count()\n",
    "print(\"No.of Record count is:\", Stream_Record_Count)\n",
    "print(\"Distinct Members in file is:\", RDD_Distinct_Members)\n",
    "print(\"Distinct games in file is: \", RDD_Distinct_Games)\n",
    "print(\"Total no.of play is :\", RDD_Play)\n",
    "print(\"Total no.of purchase is :\", RDD_Purchase)"
   ]
  },
  {
   "cell_type": "markdown",
   "metadata": {
    "application/vnd.databricks.v1+cell": {
     "cellMetadata": {
      "byteLimit": 2048000,
      "rowLimit": 10000
     },
     "inputWidgets": {},
     "nuid": "eeededde-f8e3-4b79-8253-4916d0abad89",
     "showTitle": false,
     "title": ""
    }
   },
   "source": [
    "## Analysis using Raw file - without Normalization"
   ]
  },
  {
   "cell_type": "code",
   "execution_count": 0,
   "metadata": {
    "application/vnd.databricks.v1+cell": {
     "cellMetadata": {
      "byteLimit": 2048000,
      "rowLimit": 10000
     },
     "inputWidgets": {},
     "nuid": "8c038178-6135-4490-9925-702efb4f1296",
     "showTitle": false,
     "title": ""
    }
   },
   "outputs": [],
   "source": [
    "# Most played game based on users\n",
    "Most_Played_Game = Stream_DF.filter(col(\"Behaviour\")==\"play\").select(\"UserID_Unique\",\"UserID\",\"Game_ID\",\"GameName\",\"Hours\").groupBy(\"Game_ID\",\"GameName\").agg(count(\"Hours\").alias(\"Played_Count\"),round(sum(\"Hours\")).cast(FloatType()).cast(IntegerType()).alias(\"Sum_Hours_Played\"))"
   ]
  },
  {
   "cell_type": "code",
   "execution_count": 0,
   "metadata": {
    "application/vnd.databricks.v1+cell": {
     "cellMetadata": {
      "byteLimit": 2048000,
      "rowLimit": 10000
     },
     "inputWidgets": {},
     "nuid": "d1260e11-2164-4412-9538-21abd9237ce4",
     "showTitle": false,
     "title": ""
    }
   },
   "outputs": [
    {
     "output_type": "stream",
     "name": "stdout",
     "output_type": "stream",
     "text": [
      "Most played game based on users\n+-------+-------------------------------+------------+----------------+\n|Game_ID|GameName                       |Played_Count|Sum_Hours_Played|\n+-------+-------------------------------+------------+----------------+\n|1337   |Dota 2                         |4841        |981685          |\n|4258   |Team Fortress 2                |2323        |173673          |\n|982    |Counter-Strike Global Offensive|1377        |322772          |\n|4789   |Unturned                       |1069        |16096           |\n|2476   |Left 4 Dead 2                  |801         |33597           |\n|985    |Counter-Strike Source          |715         |96075           |\n|4365   |The Elder Scrolls V Skyrim     |677         |70889           |\n|1895   |Garry's Mod                    |666         |49725           |\n|979    |Counter-Strike                 |568         |134261          |\n|3826   |Sid Meier's Civilization V     |554         |99821           |\n+-------+-------------------------------+------------+----------------+\n\n"
     ]
    }
   ],
   "source": [
    "print(\"Most played game based on users\")\n",
    "Most_Played_Game.sort('Played_Count',ascending = False).limit(10).show(truncate=False)"
   ]
  },
  {
   "cell_type": "code",
   "execution_count": 0,
   "metadata": {
    "application/vnd.databricks.v1+cell": {
     "cellMetadata": {
      "byteLimit": 2048000,
      "rowLimit": 10000
     },
     "inputWidgets": {},
     "nuid": "c2de8c9c-4d1b-4686-a826-2f27b35ab463",
     "showTitle": false,
     "title": ""
    }
   },
   "outputs": [
    {
     "output_type": "stream",
     "name": "stdout",
     "output_type": "stream",
     "text": [
      "Maximum number of hours played based on hours\n+-------+-------------------------------------------+------------+----------------+\n|Game_ID|GameName                                   |Played_Count|Sum_Hours_Played|\n+-------+-------------------------------------------+------------+----------------+\n|1337   |Dota 2                                     |4841        |981685          |\n|982    |Counter-Strike Global Offensive            |1377        |322772          |\n|4258   |Team Fortress 2                            |2323        |173673          |\n|979    |Counter-Strike                             |568         |134261          |\n|3826   |Sid Meier's Civilization V                 |554         |99821           |\n|985    |Counter-Strike Source                      |715         |96075           |\n|4365   |The Elder Scrolls V Skyrim                 |677         |70889           |\n|1895   |Garry's Mod                                |666         |49725           |\n|738    |Call of Duty Modern Warfare 2 - Multiplayer|291         |42010           |\n|2476   |Left 4 Dead 2                              |801         |33597           |\n+-------+-------------------------------------------+------------+----------------+\n\n"
     ]
    }
   ],
   "source": [
    "# Maximum number of hours played based on hours\n",
    "print(\"Maximum number of hours played based on hours\")\n",
    "Most_Played_Game.sort('Sum_Hours_Played',ascending = False).limit(10).show(truncate=False)"
   ]
  },
  {
   "cell_type": "code",
   "execution_count": 0,
   "metadata": {
    "application/vnd.databricks.v1+cell": {
     "cellMetadata": {
      "byteLimit": 2048000,
      "rowLimit": 10000
     },
     "inputWidgets": {},
     "nuid": "61028520-6df7-4a7e-9162-31099e3018de",
     "showTitle": false,
     "title": ""
    }
   },
   "outputs": [
    {
     "output_type": "stream",
     "name": "stdout",
     "output_type": "stream",
     "text": [
      "Most purchased game based on users\n+-------+-------------------------------+---------------+----------------+\n|Game_ID|GameName                       |Purchased_Count|Sum_Hours_Played|\n+-------+-------------------------------+---------------+----------------+\n|1337   |Dota 2                         |4841           |4841            |\n|4258   |Team Fortress 2                |2323           |2323            |\n|4789   |Unturned                       |1563           |1563            |\n|982    |Counter-Strike Global Offensive|1412           |1412            |\n|2075   |Half-Life 2 Lost Coast         |981            |981             |\n|985    |Counter-Strike Source          |978            |978             |\n|2476   |Left 4 Dead 2                  |951            |951             |\n|979    |Counter-Strike                 |856            |856             |\n|4900   |Warframe                       |847            |847             |\n|2072   |Half-Life 2 Deathmatch         |823            |823             |\n+-------+-------------------------------+---------------+----------------+\n\n"
     ]
    }
   ],
   "source": [
    "# Most purchased game based on users\n",
    "Most_Played_Game = Stream_DF.filter(col(\"Behaviour\")==\"purchase\").select(\"UserID_Unique\",\"UserID\",\"Game_ID\",\"GameName\",\"Hours\").groupBy(\"Game_ID\",\"GameName\").agg(count(\"Hours\").alias(\"Purchased_Count\"),round(sum(\"Hours\")).cast(FloatType()).cast(IntegerType()).alias(\"Sum_Hours_Played\"))\n",
    "print(\"Most purchased game based on users\")\n",
    "Most_Played_Game.sort('Purchased_Count',ascending = False).limit(10).show(truncate=False)"
   ]
  },
  {
   "cell_type": "code",
   "execution_count": 0,
   "metadata": {
    "application/vnd.databricks.v1+cell": {
     "cellMetadata": {
      "byteLimit": 2048000,
      "rowLimit": 10000
     },
     "inputWidgets": {},
     "nuid": "c56441ad-1cb0-442f-84d6-5fca02ca9307",
     "showTitle": false,
     "title": ""
    }
   },
   "outputs": [
    {
     "output_type": "stream",
     "name": "stdout",
     "output_type": "stream",
     "text": [
      "User played maximum hours based on individual users\n+-------------+---------+-------+--------------------------+---------------------+\n|UserID_Unique|UserID   |Game_ID|GameName                  |Sum_Hours_Played_User|\n+-------------+---------+-------+--------------------------+---------------------+\n|2086         |73017395 |3826   |Sid Meier's Civilization V|11754.0              |\n|3237         |100630947|1337   |Dota 2                    |10442.0              |\n|5564         |153382649|4258   |Team Fortress 2           |9640.0               |\n|4564         |130882834|1337   |Dota 2                    |7765.0               |\n|1356         |52567955 |1337   |Dota 2                    |6964.0               |\n|4126         |121199670|1337   |Dota 2                    |6753.0               |\n|2603         |86256882 |1337   |Dota 2                    |6015.0               |\n|1985         |70487610 |3826   |Sid Meier's Civilization V|6013.0               |\n|3270         |101414179|1337   |Dota 2                    |5982.0               |\n|242          |12660489 |1337   |Dota 2                    |5970.0               |\n+-------------+---------+-------+--------------------------+---------------------+\n\n"
     ]
    }
   ],
   "source": [
    "# User played maximum hours based on individual users\n",
    "User_Played_Max_Hours = Stream_DF.filter(col(\"Behaviour\")==\"play\").select(\"UserID_Unique\",\"UserID\",\"Game_ID\",\"GameName\",\"Hours\").groupBy(\"UserID_Unique\",\"UserID\",\"Game_ID\",\"GameName\").agg(sum(\"Hours\").cast(FloatType()).alias(\"Sum_Hours_Played_User\"))\n",
    "print(\"User played maximum hours based on individual users\")\n",
    "User_Played_Max_Hours.sort('Sum_Hours_Played_User',ascending = False).limit(10).show(truncate=False)"
   ]
  },
  {
   "cell_type": "code",
   "execution_count": 0,
   "metadata": {
    "application/vnd.databricks.v1+cell": {
     "cellMetadata": {
      "byteLimit": 2048000,
      "rowLimit": 10000
     },
     "inputWidgets": {},
     "nuid": "884cae61-5b74-401a-b13e-9e8bbcf158c3",
     "showTitle": false,
     "title": ""
    }
   },
   "outputs": [
    {
     "output_type": "stream",
     "name": "stdout",
     "output_type": "stream",
     "text": [
      "+------+------------------------+---------+-----+-------+-------------+\n|UserID|GameName                |Behaviour|Hours|Game_ID|UserID_Unique|\n+------+------------------------+---------+-----+-------+-------------+\n|5250  |Counter-Strike Source   |purchase |1.0  |985    |1            |\n|5250  |Team Fortress 2         |play     |0.8  |4258   |1            |\n|5250  |Day of Defeat           |purchase |1.0  |1132   |1            |\n|5250  |Alien Swarm             |play     |4.9  |228    |1            |\n|5250  |Deathmatch Classic      |purchase |1.0  |1180   |1            |\n|5250  |Cities Skylines         |play     |144.0|853    |1            |\n|5250  |Deus Ex Human Revolution|purchase |1.0  |1249   |1            |\n|5250  |Half-Life 2 Episode One |purchase |1.0  |2073   |1            |\n|5250  |Half-Life 2 Episode Two |purchase |1.0  |2074   |1            |\n|5250  |Alien Swarm             |purchase |1.0  |228    |1            |\n|5250  |Half-Life 2 Lost Coast  |purchase |1.0  |2075   |1            |\n|5250  |Counter-Strike          |purchase |1.0  |979    |1            |\n|5250  |Half-Life Blue Shift    |purchase |1.0  |2077   |1            |\n|5250  |Dota 2                  |purchase |1.0  |1337   |1            |\n|5250  |Half-Life Opposing Force|purchase |1.0  |2079   |1            |\n|5250  |Half-Life               |purchase |1.0  |2070   |1            |\n|5250  |Portal                  |purchase |1.0  |3223   |1            |\n|5250  |Half-Life 2 Deathmatch  |purchase |1.0  |2072   |1            |\n|5250  |Portal 2                |purchase |1.0  |3224   |1            |\n|5250  |Cities Skylines         |purchase |1.0  |853    |1            |\n+------+------------------------+---------+-----+-------+-------------+\nonly showing top 20 rows\n\n"
     ]
    }
   ],
   "source": [
    "Stream_DF.show(truncate=False)"
   ]
  },
  {
   "cell_type": "code",
   "execution_count": 0,
   "metadata": {
    "application/vnd.databricks.v1+cell": {
     "cellMetadata": {
      "byteLimit": 2048000,
      "rowLimit": 10000
     },
     "inputWidgets": {},
     "nuid": "76d50687-3725-4e2a-8e79-c9f38c6beeee",
     "showTitle": false,
     "title": ""
    }
   },
   "outputs": [
    {
     "output_type": "stream",
     "name": "stdout",
     "output_type": "stream",
     "text": [
      "No. of Records in file is: 200000\nNo. of unique games is: 5155\nNo. of unique games is: 12393\nNo. of duplicate purchases is: 719\nNo. of Records in file after dropping duplicates is: 199293\nNo. of unique games after deleting duplicates is: 5155\nNo. of unique games after deleting duplicates is: 12393\n"
     ]
    }
   ],
   "source": [
    "# Before Normalization\n",
    "Record_Count = Stream_DF.count()\n",
    "print(f\"No. of Records in file is: {Record_Count}\")\n",
    "unique_Games = Stream_DF.select(\"GameName\").distinct().count()\n",
    "print(f\"No. of unique games is: {unique_Games}\")\n",
    "unique_Users = Stream_DF.select(\"UserID\").distinct().count()\n",
    "print(f\"No. of unique games is: {unique_Users}\")\n",
    "duplicate_purchases = Stream_DF.select(\"UserID\",\"GameName\",\"Behaviour\").groupBy(\"UserID\",\"GameName\",\"Behaviour\").agg(count(\"Behaviour\").alias(\"Count\")).filter(\"Count > 1\").count()\n",
    "print(f\"No. of duplicate purchases is: {duplicate_purchases}\")\n",
    "Stream_DF = Stream_DF.select(\"UserID\",\"UserID_Unique\",\"Game_ID\",\"GameName\",\"Behaviour\",\"Hours\").dropDuplicates()\n",
    "Record_Count = Stream_DF.count()\n",
    "print(f\"No. of Records in file after dropping duplicates is: {Record_Count}\")\n",
    "unique_Games = Stream_DF.select(\"GameName\").distinct().count()\n",
    "print(f\"No. of unique games after deleting duplicates is: {unique_Games}\")\n",
    "unique_Users = Stream_DF.select(\"UserID\").distinct().count()\n",
    "print(f\"No. of unique games after deleting duplicates is: {unique_Users}\")"
   ]
  },
  {
   "cell_type": "markdown",
   "metadata": {
    "application/vnd.databricks.v1+cell": {
     "cellMetadata": {
      "byteLimit": 2048000,
      "rowLimit": 10000
     },
     "inputWidgets": {},
     "nuid": "81ce15e4-0c92-4eb6-a332-8046523ff322",
     "showTitle": false,
     "title": ""
    }
   },
   "source": [
    "## Normalization - Converting Behaviour to Purchase and Play: Assigning Play Hours to corresponding Games"
   ]
  },
  {
   "cell_type": "code",
   "execution_count": 0,
   "metadata": {
    "application/vnd.databricks.v1+cell": {
     "cellMetadata": {
      "byteLimit": 2048000,
      "rowLimit": 10000
     },
     "inputWidgets": {},
     "nuid": "d204de6e-7b55-47c3-976d-042732dedf36",
     "showTitle": false,
     "title": ""
    }
   },
   "outputs": [],
   "source": [
    "Stream_DF_Normalized = Stream_DF.alias(\"Stream_DF_Normalized\")"
   ]
  },
  {
   "cell_type": "code",
   "execution_count": 0,
   "metadata": {
    "application/vnd.databricks.v1+cell": {
     "cellMetadata": {
      "byteLimit": 2048000,
      "rowLimit": 10000
     },
     "inputWidgets": {},
     "nuid": "70e2c188-b06c-4bba-a758-768c22133c90",
     "showTitle": false,
     "title": ""
    }
   },
   "outputs": [
    {
     "output_type": "stream",
     "name": "stdout",
     "output_type": "stream",
     "text": [
      "+-------------+------+-------+------------------------+--------+----+------------+\n|UserID_Unique|UserID|Game_ID|GameName                |Purchase|Play|Hours_Played|\n+-------------+------+-------+------------------------+--------+----+------------+\n|1            |5250  |228    |Alien Swarm             |1       |1   |4.9         |\n|1            |5250  |853    |Cities Skylines         |1       |1   |144.0       |\n|1            |5250  |979    |Counter-Strike          |1       |0   |0.0         |\n|1            |5250  |985    |Counter-Strike Source   |1       |0   |0.0         |\n|1            |5250  |1132   |Day of Defeat           |1       |0   |0.0         |\n|1            |5250  |1180   |Deathmatch Classic      |1       |0   |0.0         |\n|1            |5250  |1249   |Deus Ex Human Revolution|1       |1   |62.0        |\n|1            |5250  |1337   |Dota 2                  |1       |1   |0.2         |\n|1            |5250  |2070   |Half-Life               |1       |0   |0.0         |\n|1            |5250  |2071   |Half-Life 2             |1       |0   |0.0         |\n|1            |5250  |2072   |Half-Life 2 Deathmatch  |1       |0   |0.0         |\n|1            |5250  |2073   |Half-Life 2 Episode One |1       |0   |0.0         |\n|1            |5250  |2074   |Half-Life 2 Episode Two |1       |0   |0.0         |\n|1            |5250  |2075   |Half-Life 2 Lost Coast  |1       |0   |0.0         |\n|1            |5250  |2077   |Half-Life Blue Shift    |1       |0   |0.0         |\n|1            |5250  |2079   |Half-Life Opposing Force|1       |0   |0.0         |\n|1            |5250  |3223   |Portal                  |1       |0   |0.0         |\n|1            |5250  |3224   |Portal 2                |1       |1   |13.6        |\n|1            |5250  |3532   |Ricochet                |1       |0   |0.0         |\n|1            |5250  |4258   |Team Fortress 2         |1       |1   |0.8         |\n+-------------+------+-------+------------------------+--------+----+------------+\nonly showing top 20 rows\n\n"
     ]
    }
   ],
   "source": [
    "Stream_DF_Normalized = Stream_DF_Normalized.withColumn(\"Play\", expr(\"\"\"case when Behaviour = 'play' then 1 else 0 end\"\"\")).withColumn(\"Purchase\", expr(\"\"\"case when Behaviour = 'purchase' then 1 else 0 end\"\"\")).groupBy(\"UserID_Unique\",\"UserID\",\"Game_ID\",\"GameName\").agg(sum(\"Purchase\").alias(\"Purchase\"),sum(\"Play\").alias(\"Play\"),(sum(\"Hours\")-sum(\"Purchase\")).cast(FloatType()).alias(\"Hours_Played\"))\n",
    "Stream_DF_Normalized.show(truncate=False)"
   ]
  },
  {
   "cell_type": "code",
   "execution_count": 0,
   "metadata": {
    "application/vnd.databricks.v1+cell": {
     "cellMetadata": {
      "byteLimit": 2048000,
      "rowLimit": 10000
     },
     "inputWidgets": {},
     "nuid": "2a80e29c-885e-4ed6-a6db-514d7b73e53a",
     "showTitle": false,
     "title": ""
    }
   },
   "outputs": [
    {
     "output_type": "stream",
     "name": "stdout",
     "output_type": "stream",
     "text": [
      "+-------------+--------+-------+--------------------+--------+----+------------+\n|UserID_Unique|  UserID|Game_ID|            GameName|Purchase|Play|Hours_Played|\n+-------------+--------+-------+--------------------+--------+----+------------+\n|          597|28472068|   1976|Grand Theft Auto III|       1|   2|         0.5|\n+-------------+--------+-------+--------------------+--------+----+------------+\n\n"
     ]
    }
   ],
   "source": [
    "Stream_DF_Normalized.filter(\"UserID_Unique == 597 and Game_ID == 1976\").show()"
   ]
  },
  {
   "cell_type": "code",
   "execution_count": 0,
   "metadata": {
    "application/vnd.databricks.v1+cell": {
     "cellMetadata": {
      "byteLimit": 2048000,
      "rowLimit": 10000
     },
     "inputWidgets": {},
     "nuid": "0d343249-bb19-4c7f-9318-18512a41a1d9",
     "showTitle": false,
     "title": ""
    }
   },
   "outputs": [
    {
     "output_type": "display_data",
     "data": {
      "text/html": [
       "<style scoped>\n",
       "  .table-result-container {\n",
       "    max-height: 300px;\n",
       "    overflow: auto;\n",
       "  }\n",
       "  table, th, td {\n",
       "    border: 1px solid black;\n",
       "    border-collapse: collapse;\n",
       "  }\n",
       "  th, td {\n",
       "    padding: 5px;\n",
       "  }\n",
       "  th {\n",
       "    text-align: left;\n",
       "  }\n",
       "</style><div class='table-result-container'><table class='table-result'><thead style='background-color: white'><tr><th>summary</th><th>UserID_Unique</th><th>UserID</th><th>Game_ID</th><th>GameName</th><th>Purchase</th><th>Play</th><th>Hours_Played</th></tr></thead><tbody><tr><td>count</td><td>128804</td><td>128804</td><td>128804</td><td>128804</td><td>128804</td><td>128804</td><td>128804</td></tr><tr><td>mean</td><td>3622.6841091891556</td><td>1.025343192784696E8</td><td>2499.3072420111175</td><td>140.0</td><td>1.0</td><td>0.54725784913512</td><td>26.748903761591375</td></tr><tr><td>stddev</td><td>3140.4879073674197</td><td>7.242874889271711E7</td><td>1472.4906381852552</td><td>0.0</td><td>0.0</td><td>0.49795075094682645</td><td>171.39018874814366</td></tr><tr><td>min</td><td>1</td><td>5250</td><td>1</td><td>007 Legends</td><td>1</td><td>0</td><td>0.0</td></tr><tr><td>max</td><td>12393</td><td>309903146</td><td>5155</td><td>theHunter Primal</td><td>1</td><td>2</td><td>11754.0</td></tr></tbody></table></div>"
      ]
     },
     "metadata": {
      "application/vnd.databricks.v1+output": {
       "addedWidgets": {},
       "aggData": [],
       "aggError": "",
       "aggOverflow": false,
       "aggSchema": [],
       "aggSeriesLimitReached": false,
       "aggType": "",
       "arguments": {},
       "columnCustomDisplayInfos": {},
       "data": [
        [
         "count",
         "128804",
         "128804",
         "128804",
         "128804",
         "128804",
         "128804",
         "128804"
        ],
        [
         "mean",
         "3622.6841091891556",
         "1.025343192784696E8",
         "2499.3072420111175",
         "140.0",
         "1.0",
         "0.54725784913512",
         "26.748903761591375"
        ],
        [
         "stddev",
         "3140.4879073674197",
         "7.242874889271711E7",
         "1472.4906381852552",
         "0.0",
         "0.0",
         "0.49795075094682645",
         "171.39018874814366"
        ],
        [
         "min",
         "1",
         "5250",
         "1",
         "007 Legends",
         "1",
         "0",
         "0.0"
        ],
        [
         "max",
         "12393",
         "309903146",
         "5155",
         "theHunter Primal",
         "1",
         "2",
         "11754.0"
        ]
       ],
       "datasetInfos": [],
       "dbfsResultPath": null,
       "isJsonSchema": true,
       "metadata": {},
       "overflow": false,
       "plotOptions": {
        "customPlotOptions": {},
        "displayType": "table",
        "pivotAggregation": null,
        "pivotColumns": null,
        "xColumns": null,
        "yColumns": null
       },
       "removedWidgets": [],
       "schema": [
        {
         "metadata": "{}",
         "name": "summary",
         "type": "\"string\""
        },
        {
         "metadata": "{}",
         "name": "UserID_Unique",
         "type": "\"string\""
        },
        {
         "metadata": "{}",
         "name": "UserID",
         "type": "\"string\""
        },
        {
         "metadata": "{}",
         "name": "Game_ID",
         "type": "\"string\""
        },
        {
         "metadata": "{}",
         "name": "GameName",
         "type": "\"string\""
        },
        {
         "metadata": "{}",
         "name": "Purchase",
         "type": "\"string\""
        },
        {
         "metadata": "{}",
         "name": "Play",
         "type": "\"string\""
        },
        {
         "metadata": "{}",
         "name": "Hours_Played",
         "type": "\"string\""
        }
       ],
       "type": "table"
      }
     },
     "output_type": "display_data"
    }
   ],
   "source": [
    "Stream_DF_Normalized.describe().display()"
   ]
  },
  {
   "cell_type": "code",
   "execution_count": 0,
   "metadata": {
    "application/vnd.databricks.v1+cell": {
     "cellMetadata": {
      "byteLimit": 2048000,
      "rowLimit": 10000
     },
     "inputWidgets": {},
     "nuid": "3f1afe5e-72e6-411d-854c-951cfb4a7aaa",
     "showTitle": false,
     "title": ""
    }
   },
   "outputs": [
    {
     "output_type": "stream",
     "name": "stdout",
     "output_type": "stream",
     "text": [
      "+-------------+---------+-------+--------------------------------------------+--------+----+------------+\n|UserID_Unique|UserID   |Game_ID|GameName                                    |Purchase|Play|Hours_Played|\n+-------------+---------+-------+--------------------------------------------+--------+----+------------+\n|597          |28472068 |1976   |Grand Theft Auto III                        |1       |2   |0.5         |\n|597          |28472068 |1978   |Grand Theft Auto San Andreas                |1       |2   |0.9         |\n|597          |28472068 |1980   |Grand Theft Auto Vice City                  |1       |2   |5.7000003   |\n|785          |33865373 |3822   |Sid Meier's Civilization IV                 |1       |2   |137.0       |\n|1302         |50769696 |1978   |Grand Theft Auto San Andreas                |1       |2   |14.0        |\n|1626         |59925638 |4633   |Tom Clancy's H.A.W.X. 2                     |1       |2   |7.4         |\n|2022         |71411882 |1976   |Grand Theft Auto III                        |1       |2   |1.3000001   |\n|2028         |71510748 |1978   |Grand Theft Auto San Andreas                |1       |2   |0.8         |\n|4018         |118664413|1978   |Grand Theft Auto San Andreas                |1       |2   |2.1         |\n|5341         |148362155|1978   |Grand Theft Auto San Andreas                |1       |2   |26.3        |\n|6807         |176261926|3822   |Sid Meier's Civilization IV                 |1       |2   |14.8        |\n|6807         |176261926|3823   |Sid Meier's Civilization IV Beyond the Sword|1       |2   |564.4       |\n+-------------+---------+-------+--------------------------------------------+--------+----+------------+\n\n"
     ]
    }
   ],
   "source": [
    "Stream_DF_Normalized.filter(\"Play > 1\").show(truncate=False)"
   ]
  },
  {
   "cell_type": "markdown",
   "metadata": {
    "application/vnd.databricks.v1+cell": {
     "cellMetadata": {
      "byteLimit": 2048000,
      "rowLimit": 10000
     },
     "inputWidgets": {},
     "nuid": "c660fa05-7bcc-442e-b402-46cd83534c08",
     "showTitle": false,
     "title": ""
    }
   },
   "source": [
    "## EDA After Normalization"
   ]
  },
  {
   "cell_type": "code",
   "execution_count": 0,
   "metadata": {
    "application/vnd.databricks.v1+cell": {
     "cellMetadata": {
      "byteLimit": 2048000,
      "rowLimit": 10000
     },
     "inputWidgets": {},
     "nuid": "68a3c57f-0280-45e7-afc7-4a85e2a63e94",
     "showTitle": false,
     "title": ""
    }
   },
   "outputs": [
    {
     "output_type": "stream",
     "name": "stdout",
     "output_type": "stream",
     "text": [
      "No. of Records in file is: 128804\nNo. of unique games is: 5155\nNo. of unique games is: 12393\nNo. of duplicate purchases is: 0\nNo. of Records in file after dropping duplicates is: 128804\nNo. of unique games after deleting duplicates is: 5155\nNo. of unique users after deleting duplicates is: 12393\n"
     ]
    }
   ],
   "source": [
    "Record_Count = Stream_DF_Normalized.count()\n",
    "print(f\"No. of Records in file is: {Record_Count}\")\n",
    "unique_Games = Stream_DF_Normalized.select(\"GameName\").distinct().count()\n",
    "print(f\"No. of unique games is: {unique_Games}\")\n",
    "unique_Users = Stream_DF_Normalized.select(\"UserID\").distinct().count()\n",
    "print(f\"No. of unique games is: {unique_Users}\")\n",
    "duplicate_purchases = Stream_DF_Normalized.select(\"UserID\",\"GameName\",\"Hours_Played\").groupBy(\"UserID\",\"GameName\",\"Hours_Played\").agg(count(\"Hours_Played\").alias(\"Count\")).filter(\"Count > 1\").count()\n",
    "print(f\"No. of duplicate purchases is: {duplicate_purchases}\")\n",
    "Stream_DF = Stream_DF_Normalized.select(\"Game_ID\",\"UserID\",\"GameName\",\"Purchase\",\"Play\",\"Hours_Played\").dropDuplicates()\n",
    "Record_Count = Stream_DF_Normalized.count()\n",
    "print(f\"No. of Records in file after dropping duplicates is: {Record_Count}\")\n",
    "unique_Games = Stream_DF_Normalized.select(\"GameName\").distinct().count()\n",
    "print(f\"No. of unique games after deleting duplicates is: {unique_Games}\")\n",
    "unique_Users = Stream_DF_Normalized.select(\"UserID\").distinct().count()\n",
    "print(f\"No. of unique users after deleting duplicates is: {unique_Users}\")"
   ]
  },
  {
   "cell_type": "code",
   "execution_count": 0,
   "metadata": {
    "application/vnd.databricks.v1+cell": {
     "cellMetadata": {
      "byteLimit": 2048000,
      "rowLimit": 10000
     },
     "inputWidgets": {},
     "nuid": "33bd0d31-3995-4abd-a6ba-07f99f5357d5",
     "showTitle": false,
     "title": ""
    }
   },
   "outputs": [
    {
     "output_type": "stream",
     "name": "stdout",
     "output_type": "stream",
     "text": [
      "Most played game based on users\n+-------+-------------------------------+------------+----------------+\n|Game_ID|GameName                       |Played_Count|Sum_Hours_Played|\n+-------+-------------------------------+------------+----------------+\n|1337   |Dota 2                         |4841        |981685          |\n|4258   |Team Fortress 2                |2323        |173673          |\n|4789   |Unturned                       |1563        |16096           |\n|982    |Counter-Strike Global Offensive|1412        |322772          |\n|2075   |Half-Life 2 Lost Coast         |981         |184             |\n|985    |Counter-Strike Source          |978         |96075           |\n|2476   |Left 4 Dead 2                  |951         |33597           |\n|979    |Counter-Strike                 |856         |134261          |\n|4900   |Warframe                       |847         |27075           |\n|2072   |Half-Life 2 Deathmatch         |823         |3713            |\n+-------+-------------------------------+------------+----------------+\n\n"
     ]
    }
   ],
   "source": [
    "# Most played game based on users\n",
    "print(\"Most played game based on users\")\n",
    "Most_Played_Game = Stream_DF_Normalized.select(\"UserID_Unique\",\"UserID\",\"Game_ID\",\"GameName\",\"Hours_Played\",\"Purchase\",\"Play\").groupBy(\"Game_ID\",\"GameName\").agg(count(\"Play\").alias(\"Played_Count\"),round(sum(\"Hours_Played\")).cast(FloatType()).cast(IntegerType()).alias(\"Sum_Hours_Played\"))\n",
    "Most_Played_Game.sort('Played_Count',ascending = False).limit(10).show(truncate=False)"
   ]
  },
  {
   "cell_type": "code",
   "execution_count": 0,
   "metadata": {
    "application/vnd.databricks.v1+cell": {
     "cellMetadata": {
      "byteLimit": 2048000,
      "rowLimit": 10000
     },
     "inputWidgets": {},
     "nuid": "79eae715-dead-4daf-a20d-435b3830a83d",
     "showTitle": false,
     "title": ""
    }
   },
   "outputs": [
    {
     "output_type": "stream",
     "name": "stdout",
     "output_type": "stream",
     "text": [
      "Maximum number of hours played based on hours\n+-------+-------------------------------------------+------------+----------------+\n|Game_ID|GameName                                   |Played_Count|Sum_Hours_Played|\n+-------+-------------------------------------------+------------+----------------+\n|1337   |Dota 2                                     |4841        |981685          |\n|982    |Counter-Strike Global Offensive            |1412        |322772          |\n|4258   |Team Fortress 2                            |2323        |173673          |\n|979    |Counter-Strike                             |856         |134261          |\n|3826   |Sid Meier's Civilization V                 |596         |99821           |\n|985    |Counter-Strike Source                      |978         |96075           |\n|4365   |The Elder Scrolls V Skyrim                 |717         |70889           |\n|1895   |Garry's Mod                                |731         |49725           |\n|738    |Call of Duty Modern Warfare 2 - Multiplayer|343         |42010           |\n|2476   |Left 4 Dead 2                              |951         |33597           |\n+-------+-------------------------------------------+------------+----------------+\n\n"
     ]
    }
   ],
   "source": [
    "print(\"Maximum number of hours played based on hours\")\n",
    "# Maximum number of hours played based on hours\n",
    "Most_Played_Hours = Most_Played_Game.sort('Sum_Hours_Played',ascending = False).limit(10).show(truncate=False)"
   ]
  },
  {
   "cell_type": "code",
   "execution_count": 0,
   "metadata": {
    "application/vnd.databricks.v1+cell": {
     "cellMetadata": {
      "byteLimit": 2048000,
      "rowLimit": 10000
     },
     "inputWidgets": {},
     "nuid": "d44b0ee6-1125-49e1-a100-7e0a99fccf55",
     "showTitle": false,
     "title": ""
    }
   },
   "outputs": [
    {
     "output_type": "stream",
     "name": "stdout",
     "output_type": "stream",
     "text": [
      "Most purchased game based on users\n+-------+-------------------------------+---------------+----------------+\n|Game_ID|GameName                       |Purchased_Count|Sum_Hours_Played|\n+-------+-------------------------------+---------------+----------------+\n|1337   |Dota 2                         |4841           |981685          |\n|4258   |Team Fortress 2                |2323           |173673          |\n|4789   |Unturned                       |1563           |16096           |\n|982    |Counter-Strike Global Offensive|1412           |322772          |\n|2075   |Half-Life 2 Lost Coast         |981            |184             |\n|985    |Counter-Strike Source          |978            |96075           |\n|2476   |Left 4 Dead 2                  |951            |33597           |\n|979    |Counter-Strike                 |856            |134261          |\n|4900   |Warframe                       |847            |27075           |\n|2072   |Half-Life 2 Deathmatch         |823            |3713            |\n+-------+-------------------------------+---------------+----------------+\n\n"
     ]
    }
   ],
   "source": [
    "print(\"Most purchased game based on users\")\n",
    "# Most purchased game based on users\n",
    "Most_Played_Game = Stream_DF_Normalized.select(\"UserID_Unique\",\"UserID\",\"Game_ID\",\"GameName\",\"Hours_Played\",\"Purchase\",\"Play\").groupBy(\"Game_ID\",\"GameName\").agg(count(\"Purchase\").alias(\"Purchased_Count\"),round(sum(\"Hours_Played\")).cast(FloatType()).cast(IntegerType()).alias(\"Sum_Hours_Played\"))\n",
    "Most_Played_Game.sort('Purchased_Count',ascending = False).limit(10).show(truncate=False)"
   ]
  },
  {
   "cell_type": "code",
   "execution_count": 0,
   "metadata": {
    "application/vnd.databricks.v1+cell": {
     "cellMetadata": {
      "byteLimit": 2048000,
      "rowLimit": 10000
     },
     "inputWidgets": {},
     "nuid": "912b78c0-bb03-4ada-a3ed-bf068b285b0e",
     "showTitle": false,
     "title": ""
    }
   },
   "outputs": [
    {
     "output_type": "stream",
     "name": "stdout",
     "output_type": "stream",
     "text": [
      "User played maximum hours based on individual users\n+-------------+-------+--------------------------+---------------------+\n|UserID_Unique|Game_ID|GameName                  |Sum_Hours_Played_User|\n+-------------+-------+--------------------------+---------------------+\n|2086         |3826   |Sid Meier's Civilization V|11754.0              |\n|3237         |1337   |Dota 2                    |10442.0              |\n|5564         |4258   |Team Fortress 2           |9640.0               |\n|4564         |1337   |Dota 2                    |7765.0               |\n|1356         |1337   |Dota 2                    |6964.0               |\n|4126         |1337   |Dota 2                    |6753.0               |\n|2603         |1337   |Dota 2                    |6015.0               |\n|1985         |3826   |Sid Meier's Civilization V|6013.0               |\n|3270         |1337   |Dota 2                    |5982.0               |\n|242          |1337   |Dota 2                    |5970.0               |\n+-------------+-------+--------------------------+---------------------+\n\n"
     ]
    }
   ],
   "source": [
    "print(\"User played maximum hours based on individual users\")\n",
    "# User played maximum hours based on individual users\n",
    "User_Played_Max_Hours = Stream_DF_Normalized.select(\"UserID_Unique\",\"UserID\",\"Game_ID\",\"GameName\",\"Hours_Played\",\"Purchase\",\"Play\").groupBy(\"UserID_Unique\",\"Game_ID\",\"GameName\").agg(sum(\"Hours_Played\").cast(FloatType()).alias(\"Sum_Hours_Played_User\"))\n",
    "User_Played_Max_Hours.sort('Sum_Hours_Played_User',ascending = False).limit(10).show(truncate=False)"
   ]
  },
  {
   "cell_type": "code",
   "execution_count": 0,
   "metadata": {
    "application/vnd.databricks.v1+cell": {
     "cellMetadata": {
      "byteLimit": 2048000,
      "implicitDf": true,
      "rowLimit": 10000
     },
     "inputWidgets": {},
     "nuid": "b3a7d43e-a744-4b0d-b23f-5007c0d835c0",
     "showTitle": false,
     "title": ""
    }
   },
   "outputs": [
    {
     "output_type": "stream",
     "name": "stdout",
     "output_type": "stream",
     "text": [
      "No. of games purchased 128804\nNo. of games played 70477\nNo. of users purchased games but not played: 5953\nNo. of games played more than one time: 12\n"
     ]
    }
   ],
   "source": [
    "# Total No.of Purchases\n",
    "No_Game_Purchases = Stream_DF_Normalized.select(\"UserID_Unique\",\"UserID\",\"Game_ID\",\"GameName\",\"Hours_Played\",\"Purchase\",\"Play\").filter(\"Purchase != 0\").count()\n",
    "print(\"No. of games purchased\", No_Game_Purchases)\n",
    "\n",
    "# Total No.of Plays\n",
    "No_Game_Plays = Stream_DF_Normalized.select(\"UserID_Unique\",\"UserID\",\"Game_ID\",\"GameName\",\"Hours_Played\",\"Purchase\",\"Play\").filter(\"Play != 0\").count()\n",
    "print(\"No. of games played\", No_Game_Plays)\n",
    "\n",
    "# Users Purchased but not played\n",
    "User_Purchased_not_Played_Count = Stream_DF_Normalized.select(\"UserID_Unique\",\"UserID\",\"Game_ID\",\"GameName\",\"Hours_Played\",\"Purchase\",\"Play\").filter(\"Play == 0\").groupBy(\"UserID\").agg(count(\"UserID\")).count()\n",
    "print(\"No. of users purchased games but not played:\", User_Purchased_not_Played_Count)\n",
    "\n",
    "# Games Played more than once\n",
    "Games_Played_multiple_times = Stream_DF_Normalized.select(\"UserID_Unique\",\"UserID\",\"Game_ID\",\"GameName\",\"Hours_Played\",\"Purchase\",\"Play\").filter(\"Play > 1\").count()\n",
    "print(\"No. of games played more than one time:\", Games_Played_multiple_times)"
   ]
  },
  {
   "cell_type": "code",
   "execution_count": 0,
   "metadata": {
    "application/vnd.databricks.v1+cell": {
     "cellMetadata": {
      "byteLimit": 2048000,
      "rowLimit": 10000
     },
     "inputWidgets": {},
     "nuid": "4dbfc3a0-be32-42d3-ba24-661bbcea59fb",
     "showTitle": false,
     "title": ""
    }
   },
   "outputs": [],
   "source": [
    "Stream_DF_Final = Stream_DF_Normalized.dropna()"
   ]
  },
  {
   "cell_type": "code",
   "execution_count": 0,
   "metadata": {
    "application/vnd.databricks.v1+cell": {
     "cellMetadata": {
      "byteLimit": 2048000,
      "rowLimit": 10000
     },
     "inputWidgets": {},
     "nuid": "63630528-ca0a-454e-b4eb-e2e7a2677079",
     "showTitle": false,
     "title": ""
    }
   },
   "outputs": [
    {
     "output_type": "stream",
     "name": "stdout",
     "output_type": "stream",
     "text": [
      "+-------------+------+-------+--------------------+--------+----+------------+\n|UserID_Unique|UserID|Game_ID|            GameName|Purchase|Play|Hours_Played|\n+-------------+------+-------+--------------------+--------+----+------------+\n|            1|  5250|    228|         Alien Swarm|       1|   1|         4.9|\n|            1|  5250|    853|     Cities Skylines|       1|   1|       144.0|\n|            1|  5250|    979|      Counter-Strike|       1|   0|         0.0|\n|            1|  5250|    985|Counter-Strike So...|       1|   0|         0.0|\n|            1|  5250|   1132|       Day of Defeat|       1|   0|         0.0|\n|            1|  5250|   1180|  Deathmatch Classic|       1|   0|         0.0|\n|            1|  5250|   1249|Deus Ex Human Rev...|       1|   1|        62.0|\n|            1|  5250|   1337|              Dota 2|       1|   1|         0.2|\n|            1|  5250|   2070|           Half-Life|       1|   0|         0.0|\n|            1|  5250|   2071|         Half-Life 2|       1|   0|         0.0|\n|            1|  5250|   2072|Half-Life 2 Death...|       1|   0|         0.0|\n|            1|  5250|   2073|Half-Life 2 Episo...|       1|   0|         0.0|\n|            1|  5250|   2074|Half-Life 2 Episo...|       1|   0|         0.0|\n|            1|  5250|   2075|Half-Life 2 Lost ...|       1|   0|         0.0|\n|            1|  5250|   2077|Half-Life Blue Shift|       1|   0|         0.0|\n|            1|  5250|   2079|Half-Life Opposin...|       1|   0|         0.0|\n|            1|  5250|   3223|              Portal|       1|   0|         0.0|\n|            1|  5250|   3224|            Portal 2|       1|   1|        13.6|\n|            1|  5250|   3532|            Ricochet|       1|   0|         0.0|\n|            1|  5250|   4258|     Team Fortress 2|       1|   1|         0.8|\n+-------------+------+-------+--------------------+--------+----+------------+\nonly showing top 20 rows\n\n"
     ]
    }
   ],
   "source": [
    "Stream_DF_Final.show()"
   ]
  },
  {
   "cell_type": "markdown",
   "metadata": {
    "application/vnd.databricks.v1+cell": {
     "cellMetadata": {
      "byteLimit": 2048000,
      "rowLimit": 10000
     },
     "inputWidgets": {},
     "nuid": "f999c328-d2e4-49f3-acfe-63bc52100881",
     "showTitle": false,
     "title": ""
    }
   },
   "source": [
    "##ALS Implementation"
   ]
  },
  {
   "cell_type": "markdown",
   "metadata": {
    "application/vnd.databricks.v1+cell": {
     "cellMetadata": {
      "byteLimit": 2048000,
      "rowLimit": 10000
     },
     "inputWidgets": {},
     "nuid": "7130535e-9b28-4984-bc2c-3c4e513c5ff0",
     "showTitle": false,
     "title": ""
    }
   },
   "source": [
    "## Implementation with train 70% and test 30% data based on Hours_Played"
   ]
  },
  {
   "cell_type": "code",
   "execution_count": 0,
   "metadata": {
    "application/vnd.databricks.v1+cell": {
     "cellMetadata": {
      "byteLimit": 2048000,
      "implicitDf": true,
      "rowLimit": 10000
     },
     "inputWidgets": {},
     "nuid": "b5ecce0b-0eba-4630-a970-28f1fd9abe44",
     "showTitle": false,
     "title": ""
    }
   },
   "outputs": [
    {
     "output_type": "stream",
     "name": "stderr",
     "output_type": "stream",
     "text": [
      "2024/04/07 09:03:48 INFO mlflow.utils.autologging_utils: Created MLflow autologging run with ID '6da18e9c4e9c4af5a3466e81504fd5cc', which will track hyperparameters, performance metrics, model artifacts, and lineage information for the current pyspark.ml workflow\n2024/04/07 09:04:36 WARNING mlflow.pyspark.ml: Model ALS_1123fac714c2 will not be autologged because it is not allowlisted or or because one or more of its nested models are not allowlisted. Call mlflow.spark.log_model() to explicitly log the model, or specify a custom allowlist via the spark.mlflow.pysparkml.autolog.logModelAllowlistFile Spark conf (see mlflow.pyspark.ml.autolog docs for more info).\n"
     ]
    },
    {
     "output_type": "stream",
     "name": "stdout",
     "output_type": "stream",
     "text": [
      "+-------------+------+-------+--------------------+--------+----+------------+-----------+\n|UserID_Unique|UserID|Game_ID|            GameName|Purchase|Play|Hours_Played| prediction|\n+-------------+------+-------+--------------------+--------+----+------------+-----------+\n|            1|  5250|    228|         Alien Swarm|       1|   1|         4.9| 0.18845913|\n|            1|  5250|    853|     Cities Skylines|       1|   1|       144.0| 0.20564412|\n|            1|  5250|    985|Counter-Strike So...|       1|   0|         0.0|  0.3498589|\n|            1|  5250|   2073|Half-Life 2 Episo...|       1|   0|         0.0| 0.15252747|\n|            1|  5250|   2075|Half-Life 2 Lost ...|       1|   0|         0.0|0.071707085|\n|            1|  5250|   3224|            Portal 2|       1|   1|        13.6| 0.34568468|\n|            2| 76767|    328|Arma 2 Operation ...|       1|   0|         0.0| 0.09356316|\n|            2| 76767|    728|Call of Duty Blac...|       1|   1|        12.5|  0.8545084|\n|            2| 76767|    738|Call of Duty Mode...|       1|   1|       165.0|  0.7873413|\n|            2| 76767|    741|Call of Duty Mode...|       1|   1|        15.9| 0.65422773|\n|            2| 76767|    742|Call of Duty Mode...|       1|   1|         9.7| 0.73486924|\n|            2| 76767|    985|Counter-Strike So...|       1|   1|        25.0|   1.115745|\n|            2| 76767|   1132|       Day of Defeat|       1|   0|         0.0| 0.14970486|\n|            2| 76767|   1180|  Deathmatch Classic|       1|   0|         0.0|0.029170902|\n|            2| 76767|   2079|Half-Life Opposin...|       1|   0|         0.0| 0.11314133|\n|            2| 76767|   4493| The Stanley Parable|       1|   1|         1.8|  0.3632853|\n|            2| 76767|   4541|       Thief - Ghost|       1|   0|         0.0|        0.0|\n|            2| 76767|   4542| Thief - Opportunist|       1|   0|         0.0|        0.0|\n|            2| 76767|   4546|Thief Deadly Shadows|       1|   1|         3.4|0.056166507|\n|            3| 86540|    175|Age of Empires II...|       1|   1|         0.7| 0.05593203|\n+-------------+------+-------+--------------------+--------+----+------------+-----------+\nonly showing top 20 rows\n\n"
     ]
    }
   ],
   "source": [
    "(training, test) = Stream_DF_Final.randomSplit([0.7 , 0.3])\n",
    "als_7 = ALS(nonnegative = True, implicitPrefs=True,coldStartStrategy=\"drop\",userCol=\"UserID_Unique\", itemCol=\"Game_ID\",ratingCol=\"Hours_Played\",seed=120, rank=5, regParam=0.01, maxIter=10, alpha = 1)\n",
    "\n",
    "Model = als_7.fit(training)\n",
    "predictions = Model.transform(test)\n",
    "predictions.show()"
   ]
  },
  {
   "cell_type": "code",
   "execution_count": 0,
   "metadata": {
    "application/vnd.databricks.v1+cell": {
     "cellMetadata": {
      "byteLimit": 2048000,
      "rowLimit": 10000
     },
     "inputWidgets": {},
     "nuid": "5458da43-094d-4e96-8e4d-ab77d4eb7e77",
     "showTitle": false,
     "title": ""
    }
   },
   "outputs": [
    {
     "output_type": "stream",
     "name": "stdout",
     "output_type": "stream",
     "text": [
      "161.61268351509776\n"
     ]
    }
   ],
   "source": [
    "Evaluator = RegressionEvaluator(\n",
    "           metricName=\"rmse\", \n",
    "           labelCol=\"Hours_Played\", \n",
    "           predictionCol=\"prediction\") \n",
    "RMSE = Evaluator.evaluate(predictions)\n",
    "print(RMSE)"
   ]
  },
  {
   "cell_type": "code",
   "execution_count": 0,
   "metadata": {
    "application/vnd.databricks.v1+cell": {
     "cellMetadata": {
      "byteLimit": 2048000,
      "rowLimit": 10000
     },
     "inputWidgets": {},
     "nuid": "015cf8f5-c7ec-4903-9bb4-969a8f80aa29",
     "showTitle": false,
     "title": ""
    }
   },
   "outputs": [
    {
     "output_type": "stream",
     "name": "stdout",
     "output_type": "stream",
     "text": [
      "+-------------+---------------------------------------------------------------------------------------------------------------------+\n|UserID_Unique|recommendations                                                                                                      |\n+-------------+---------------------------------------------------------------------------------------------------------------------+\n|1            |[{3826, 0.35017368}, {985, 0.3498589}, {3224, 0.34568468}, {979, 0.34320742}, {2374, 0.32889587}, {2071, 0.3252013}] |\n|2            |[{985, 1.115745}, {2476, 1.0677307}, {979, 1.0597292}, {3224, 1.0411886}, {2374, 0.97893834}, {2071, 0.95103014}]    |\n|3            |[{4365, 0.8946045}, {620, 0.71338856}, {1979, 0.7117016}, {4277, 0.67196167}, {3066, 0.6652721}, {1895, 0.6601146}]  |\n|4            |[{117, 0.0}, {97, 0.0}, {72, 0.0}, {69, 0.0}, {67, 0.0}, {65, 0.0}]                                                  |\n|5            |[{979, 0.07032441}, {985, 0.06904019}, {980, 0.05004939}, {732, 0.04788171}, {742, 0.04786413}, {2476, 0.047146413}] |\n|6            |[{979, 0.16145964}, {985, 0.15851115}, {980, 0.11490969}, {732, 0.10993287}, {742, 0.1098925}, {2476, 0.10824467}]   |\n|7            |[{985, 1.2524595}, {979, 1.1893213}, {2476, 1.0291259}, {1337, 0.92757434}, {728, 0.91319895}, {738, 0.9025183}]     |\n|8            |[{3826, 1.313879}, {1680, 1.1095386}, {2808, 1.0663093}, {1679, 1.0357955}, {4315, 1.0016694}, {4645, 0.9915388}]    |\n|9            |[{117, 0.0}, {97, 0.0}, {72, 0.0}, {69, 0.0}, {67, 0.0}, {65, 0.0}]                                                  |\n|10           |[{979, 0.21572886}, {985, 0.21178932}, {980, 0.15353271}, {732, 0.14688309}, {742, 0.14682916}, {2476, 0.14462747}]  |\n|11           |[{979, 0.120607145}, {985, 0.11923331}, {980, 0.085801266}, {2476, 0.08312004}, {732, 0.08253293}, {742, 0.08205501}]|\n|12           |[{985, 0.95741796}, {1337, 0.941386}, {4258, 0.8918665}, {738, 0.8692323}, {979, 0.86915684}, {2476, 0.86713713}]    |\n|13           |[{985, 1.4200569}, {979, 1.3954319}, {2476, 1.1549335}, {3224, 1.0589262}, {728, 1.0152669}, {732, 1.010503}]        |\n|14           |[{117, 0.0}, {97, 0.0}, {72, 0.0}, {69, 0.0}, {67, 0.0}, {65, 0.0}]                                                  |\n|15           |[{117, 0.0}, {97, 0.0}, {72, 0.0}, {69, 0.0}, {67, 0.0}, {65, 0.0}]                                                  |\n|16           |[{4258, 0.89558893}, {982, 0.85779494}, {1337, 0.8573965}, {738, 0.7622939}, {4789, 0.74988294}, {2476, 0.6782551}]  |\n|17           |[{979, 0.09912157}, {985, 0.09731146}, {980, 0.07054412}, {732, 0.067488804}, {742, 0.067464024}, {2476, 0.06645241}]|\n|18           |[{979, 0.73466545}, {985, 0.72124934}, {980, 0.52285624}, {732, 0.50021094}, {742, 0.50002724}, {2476, 0.4925294}]   |\n|19           |[{979, 0.20593324}, {985, 0.20217259}, {980, 0.14656124}, {732, 0.14021356}, {742, 0.14016208}, {2476, 0.13806036}]  |\n|20           |[{1337, 1.0843695}, {4258, 1.0319854}, {982, 0.9966584}, {1895, 0.8481592}, {4789, 0.7938638}, {4277, 0.73707813}]   |\n+-------------+---------------------------------------------------------------------------------------------------------------------+\nonly showing top 20 rows\n\n+-------+-----------------------------------------------------------------------------------------------------------------------------------+\n|Game_ID|recommendations                                                                                                                    |\n+-------+-----------------------------------------------------------------------------------------------------------------------------------+\n|1      |[{2156, 0.0075193252}, {1361, 0.0071367254}, {1049, 0.007133142}, {3446, 0.0070807114}, {3278, 0.006927538}, {1730, 0.0068053566}] |\n|2      |[{2156, 0.00796813}, {1361, 0.0076752324}, {1049, 0.007627908}, {3278, 0.0075480547}, {3446, 0.0075055347}, {1730, 0.00738636}]    |\n|3      |[{1049, 0.07004417}, {2156, 0.06852899}, {3446, 0.06705251}, {1361, 0.06661967}, {533, 0.06623871}, {3278, 0.06585527}]            |\n|4      |[{2156, 0.015711637}, {1049, 0.015488602}, {1730, 0.015292514}, {1361, 0.015255153}, {3278, 0.015176537}, {3446, 0.014813749}]     |\n|6      |[{4378, 0.047821924}, {5479, 0.046958253}, {5213, 0.04636028}, {6364, 0.041268338}, {3158, 0.03865952}, {11384, 0.037458286}]      |\n|7      |[{60, 0.0}, {59, 0.0}, {58, 0.0}, {57, 0.0}, {56, 0.0}, {55, 0.0}]                                                                 |\n|8      |[{1049, 0.11539597}, {3446, 0.1056871}, {2156, 0.10279773}, {533, 0.10121505}, {1730, 0.100153774}, {4163, 0.095829375}]           |\n|9      |[{2156, 0.049365968}, {1049, 0.04683059}, {3446, 0.046519853}, {1361, 0.04589606}, {3278, 0.044157956}, {1730, 0.044055253}]       |\n|10     |[{1049, 0.039032422}, {533, 0.034296654}, {3446, 0.033465307}, {729, 0.03317675}, {278, 0.032778855}, {212, 0.032095853}]          |\n|11     |[{2156, 0.0067296214}, {1049, 0.0066297734}, {1730, 0.006486173}, {1361, 0.0064476114}, {3278, 0.0063505117}, {3446, 0.0063448995}]|\n|12     |[{2156, 0.0047997776}, {1049, 0.004553267}, {3446, 0.0045199897}, {1361, 0.0044624037}, {1730, 0.0042819893}, {3278, 0.004263313}] |\n|13     |[{60, 0.0}, {59, 0.0}, {58, 0.0}, {57, 0.0}, {56, 0.0}, {55, 0.0}]                                                                 |\n|14     |[{2156, 0.030324137}, {1049, 0.028766727}, {3446, 0.028555283}, {1361, 0.028192671}, {1730, 0.02705228}, {3278, 0.026923008}]      |\n|15     |[{60, 0.0}, {59, 0.0}, {58, 0.0}, {57, 0.0}, {56, 0.0}, {55, 0.0}]                                                                 |\n|16     |[{1049, 0.0071090804}, {729, 0.0067157783}, {278, 0.006304756}, {533, 0.006251115}, {3446, 0.005985478}, {1108, 0.0059617823}]     |\n|17     |[{1049, 0.02465479}, {533, 0.021992449}, {729, 0.021971224}, {278, 0.021012062}, {212, 0.02063578}, {4390, 0.020580404}]           |\n|18     |[{60, 0.0}, {59, 0.0}, {58, 0.0}, {57, 0.0}, {56, 0.0}, {55, 0.0}]                                                                 |\n|19     |[{2156, 0.036499467}, {1049, 0.034624897}, {3446, 0.034370393}, {1361, 0.033933938}, {1730, 0.032561313}, {3278, 0.032405715}]     |\n|20     |[{60, 0.0}, {59, 0.0}, {58, 0.0}, {57, 0.0}, {56, 0.0}, {55, 0.0}]                                                                 |\n|21     |[{60, 0.0}, {59, 0.0}, {58, 0.0}, {57, 0.0}, {56, 0.0}, {55, 0.0}]                                                                 |\n+-------+-----------------------------------------------------------------------------------------------------------------------------------+\nonly showing top 20 rows\n\n"
     ]
    }
   ],
   "source": [
    "userRecs = Model.recommendForAllUsers(6)\n",
    "userRecs.sort(\"UserID_Unique\",ascending=True).show(truncate=False)\n",
    "\n",
    "gameRecommendation = Model.recommendForAllItems(6)\n",
    "gameRecommendation.sort(\"Game_ID\", ascending=True).show(truncate = False)"
   ]
  },
  {
   "cell_type": "code",
   "execution_count": 0,
   "metadata": {
    "application/vnd.databricks.v1+cell": {
     "cellMetadata": {
      "byteLimit": 2048000,
      "rowLimit": 10000
     },
     "inputWidgets": {},
     "nuid": "095b1109-3274-411d-a9fc-a359479a055e",
     "showTitle": false,
     "title": ""
    }
   },
   "outputs": [
    {
     "output_type": "stream",
     "name": "stdout",
     "output_type": "stream",
     "text": [
      "+-------+--------------------------------------------+----------+\n|Game_ID|GameName                                    |rating    |\n+-------+--------------------------------------------+----------+\n|3826   |Sid Meier's Civilization V                  |0.9961773 |\n|3823   |Sid Meier's Civilization IV Beyond the Sword|0.76147985|\n|1105   |Dark Souls Prepare to Die Edition           |0.7296764 |\n|853    |Cities Skylines                             |0.72735703|\n|4914   |Warhammer 40,000 Dawn of War II             |0.7258136 |\n|3819   |Sid Meier's Civilization Beyond Earth       |0.7209965 |\n+-------+--------------------------------------------+----------+\n\n"
     ]
    }
   ],
   "source": [
    "from pyspark.sql.functions import explode\n",
    "# Top 6 recommendation games - user specific\n",
    "DF = userRecs.where(userRecs.UserID_Unique==1985)\\\n",
    "        .withColumn(\"recommendations\",explode(\"recommendations\"))\\\n",
    "        .select(\"recommendations.Game_ID\",\"recommendations.rating\")\\\n",
    "        .join(Stream_DF_Final,[\"Game_ID\"])\\\n",
    "        .select(\"Game_ID\",\"GameName\",\"rating\")\\\n",
    "        .distinct()\\\n",
    "        .sort(\"rating\", ascending=False)\\\n",
    "        .show(truncate=False)"
   ]
  },
  {
   "cell_type": "code",
   "execution_count": 0,
   "metadata": {
    "application/vnd.databricks.v1+cell": {
     "cellMetadata": {
      "byteLimit": 2048000,
      "rowLimit": 10000
     },
     "inputWidgets": {},
     "nuid": "2a8dc14e-4353-452f-b9f1-cc7579d772ab",
     "showTitle": false,
     "title": ""
    }
   },
   "outputs": [
    {
     "output_type": "stream",
     "name": "stdout",
     "output_type": "stream",
     "text": [
      "+-------------+---------+\n|UserID_Unique|rating   |\n+-------------+---------+\n|4378         |3.5802853|\n|5479         |3.534132 |\n|5213         |3.4708564|\n|6364         |3.0945754|\n|3158         |2.8809268|\n|11384        |2.8043904|\n+-------------+---------+\n\n"
     ]
    }
   ],
   "source": [
    "# Top 6 recommendation users - Games specific\n",
    "gameRecommendation.where(gameRecommendation.Game_ID==4258)\\\n",
    "        .withColumn(\"recommendations\",explode(\"recommendations\"))\\\n",
    "        .select(\"recommendations.UserID_Unique\",\"recommendations.rating\")\\\n",
    "        .join(Stream_DF_Final,[\"UserID_Unique\"])\\\n",
    "        .select(\"UserID_Unique\",\"rating\")\\\n",
    "        .distinct()\\\n",
    "        .sort(\"rating\", ascending=False)\\\n",
    "        .show(truncate=False)"
   ]
  },
  {
   "cell_type": "code",
   "execution_count": 0,
   "metadata": {
    "application/vnd.databricks.v1+cell": {
     "cellMetadata": {
      "byteLimit": 2048000,
      "rowLimit": 10000
     },
     "inputWidgets": {},
     "nuid": "0dc47e19-07db-4a9e-8617-cd176081443a",
     "showTitle": false,
     "title": ""
    }
   },
   "outputs": [
    {
     "output_type": "stream",
     "name": "stdout",
     "output_type": "stream",
     "text": [
      "+-------+-----------------------------------------------------------------------------------------------------------------------------------------------------------------------------------------------------------------------+\n|Game_ID|recommendations                                                                                                                                                                                                        |\n+-------+-----------------------------------------------------------------------------------------------------------------------------------------------------------------------------------------------------------------------+\n|31     |[{100, 0.0}, {99, 0.0}, {98, 0.0}, {97, 0.0}, {96, 0.0}, {95, 0.0}, {94, 0.0}, {93, 0.0}, {92, 0.0}, {91, 0.0}]                                                                                                        |\n|12     |[{2156, 0.0047997776}, {1049, 0.004553267}, {3446, 0.0045199897}, {1361, 0.0044624037}, {1730, 0.0042819893}, {3278, 0.004263313}, {2676, 0.004239919}, {5938, 0.0041269083}, {4163, 0.004047361}, {3265, 0.004028352}]|\n|26     |[{1135, 0.52583975}, {12015, 0.48272678}, {7443, 0.39923835}, {2823, 0.39669022}, {1897, 0.39642093}, {10610, 0.38849783}, {6323, 0.3609953}, {2475, 0.35105863}, {3742, 0.34815168}, {8275, 0.34344703}]              |\n|27     |[{729, 0.017325161}, {278, 0.014345483}, {1049, 0.013739897}, {1108, 0.0136290025}, {4390, 0.013610341}, {1896, 0.013124717}, {533, 0.012857377}, {2029, 0.012827182}, {3683, 0.0127536105}, {1334, 0.012671726}]      |\n|28     |[{100, 0.0}, {99, 0.0}, {98, 0.0}, {97, 0.0}, {96, 0.0}, {95, 0.0}, {94, 0.0}, {93, 0.0}, {92, 0.0}, {91, 0.0}]                                                                                                        |\n+-------+-----------------------------------------------------------------------------------------------------------------------------------------------------------------------------------------------------------------------+\n\n"
     ]
    }
   ],
   "source": [
    "# Top 5 games recommendations\n",
    "games_sel = gameRecommendation.select(als.getItemCol()).distinct().limit(5)\n",
    "gameSubSetRecs = Model.recommendForItemSubset(games_sel, 10)\n",
    "gameSubSetRecs.show(truncate = False)"
   ]
  },
  {
   "cell_type": "code",
   "execution_count": 0,
   "metadata": {
    "application/vnd.databricks.v1+cell": {
     "cellMetadata": {
      "byteLimit": 2048000,
      "rowLimit": 10000
     },
     "inputWidgets": {},
     "nuid": "915b31c1-1285-400b-a72f-3fbdd3170de3",
     "showTitle": false,
     "title": ""
    }
   },
   "outputs": [
    {
     "output_type": "stream",
     "name": "stdout",
     "output_type": "stream",
     "text": [
      "+-------------+---------+-------+-------------------------------+--------+----+------------+----------+\n|UserID_Unique|UserID   |Game_ID|GameName                       |Purchase|Play|Hours_Played|prediction|\n+-------------+---------+-------+-------------------------------+--------+----+------------+----------+\n|5479         |151229648|4789   |Unturned                       |1       |0   |0.0         |2.71891   |\n|1896         |67713900 |1762   |Football Manager 2011          |1       |1   |407.0       |2.0560536 |\n|7443         |187463594|979    |Counter-Strike                 |1       |0   |0.0         |2.0373032 |\n|6708         |174287424|1337   |Dota 2                         |1       |1   |9.7         |2.0208125 |\n|3805         |113546110|4258   |Team Fortress 2                |1       |1   |8.1         |1.9330019 |\n|8271         |201173206|982    |Counter-Strike Global Offensive|1       |1   |2.3         |1.9002986 |\n|2823         |91690667 |2476   |Left 4 Dead 2                  |1       |0   |0.0         |1.8836716 |\n|2084         |72996988 |1337   |Dota 2                         |1       |1   |83.0        |1.854907  |\n|10681        |253813925|4258   |Team Fortress 2                |1       |1   |1.2         |1.840142  |\n|6364         |167815968|3563   |Robocraft                      |1       |0   |0.0         |1.817819  |\n|4265         |124556386|979    |Counter-Strike                 |1       |0   |0.0         |1.7158787 |\n|1730         |62990992 |3826   |Sid Meier's Civilization V     |1       |1   |550.0       |1.713931  |\n|4132         |121280370|1337   |Dota 2                         |1       |1   |1.6         |1.7129726 |\n|4265         |124556386|985    |Counter-Strike Source          |1       |0   |0.0         |1.6845442 |\n|2716         |88775181 |1337   |Dota 2                         |1       |1   |11.9        |1.6820303 |\n|7443         |187463594|3224   |Portal 2                       |1       |1   |39.0        |1.6755189 |\n|1135         |45592640 |1977   |Grand Theft Auto IV            |1       |1   |51.0        |1.6376388 |\n|2434         |82263745 |1337   |Dota 2                         |1       |1   |2634.0      |1.6260397 |\n|8897         |211925330|1337   |Dota 2                         |1       |1   |290.0       |1.6186289 |\n|1550         |58289184 |1337   |Dota 2                         |1       |1   |431.0       |1.6167992 |\n+-------------+---------+-------+-------------------------------+--------+----+------------+----------+\nonly showing top 20 rows\n\n"
     ]
    }
   ],
   "source": [
    "predictions.sort(\"prediction\", ascending=False).show(truncate=False)"
   ]
  },
  {
   "cell_type": "markdown",
   "metadata": {
    "application/vnd.databricks.v1+cell": {
     "cellMetadata": {
      "byteLimit": 2048000,
      "rowLimit": 10000
     },
     "inputWidgets": {},
     "nuid": "c84ac62b-a917-463c-866c-ac4177267184",
     "showTitle": false,
     "title": ""
    }
   },
   "source": [
    "## Implementation with Purchase history as rating col"
   ]
  },
  {
   "cell_type": "code",
   "execution_count": 0,
   "metadata": {
    "application/vnd.databricks.v1+cell": {
     "cellMetadata": {
      "byteLimit": 2048000,
      "rowLimit": 10000
     },
     "inputWidgets": {},
     "nuid": "160aa437-b831-4d45-b13f-15168edea3c9",
     "showTitle": false,
     "title": ""
    }
   },
   "outputs": [
    {
     "output_type": "stream",
     "name": "stderr",
     "output_type": "stream",
     "text": [
      "2024/04/07 09:08:49 INFO mlflow.utils.autologging_utils: Created MLflow autologging run with ID '531dec398d9340f8b168403a5539e47a', which will track hyperparameters, performance metrics, model artifacts, and lineage information for the current pyspark.ml workflow\n2024/04/07 09:09:42 WARNING mlflow.pyspark.ml: Model ALS_7777df445417 will not be autologged because it is not allowlisted or or because one or more of its nested models are not allowlisted. Call mlflow.spark.log_model() to explicitly log the model, or specify a custom allowlist via the spark.mlflow.pysparkml.autolog.logModelAllowlistFile Spark conf (see mlflow.pyspark.ml.autolog docs for more info).\n"
     ]
    },
    {
     "output_type": "stream",
     "name": "stdout",
     "output_type": "stream",
     "text": [
      "0.9595079260092532\n"
     ]
    }
   ],
   "source": [
    "(training, test) = Stream_DF_Final.randomSplit([0.7 , 0.3])\n",
    "als_purchase = ALS(nonnegative = True, implicitPrefs=True,coldStartStrategy=\"drop\",userCol=\"UserID_Unique\", itemCol=\"Game_ID\",ratingCol=\"Purchase\",seed=100, rank=5, regParam=1, maxIter=10, alpha=1)\n",
    "\n",
    "Model = als_purchase.fit(training)\n",
    "predictions = Model.transform(test)\n",
    "Evaluator = RegressionEvaluator(\n",
    "           metricName=\"rmse\", \n",
    "           labelCol=\"Purchase\", \n",
    "           predictionCol=\"prediction\") \n",
    "RMSE = Evaluator.evaluate(predictions)\n",
    "print(RMSE)"
   ]
  },
  {
   "cell_type": "code",
   "execution_count": 0,
   "metadata": {
    "application/vnd.databricks.v1+cell": {
     "cellMetadata": {
      "byteLimit": 2048000,
      "rowLimit": 10000
     },
     "inputWidgets": {},
     "nuid": "f8fc1a25-ce38-4d88-b034-29bfa12c35e1",
     "showTitle": false,
     "title": ""
    }
   },
   "outputs": [
    {
     "output_type": "stream",
     "name": "stdout",
     "output_type": "stream",
     "text": [
      "+-------------+--------------------------------------------------------------------------------------------------------------------------+\n|UserID_Unique|recommendations                                                                                                           |\n+-------------+--------------------------------------------------------------------------------------------------------------------------+\n|1            |[{1337, 0.13280135}, {979, 0.108620346}, {3532, 0.09760255}, {980, 0.09741668}, {981, 0.096139036}, {1180, 0.09489461}]   |\n|2            |[{1337, 0.06302964}, {979, 0.058574084}, {2075, 0.054551307}, {985, 0.054111194}, {3532, 0.053472728}, {980, 0.053257562}]|\n|3            |[{455, 0.07312896}, {453, 0.07289122}, {521, 0.07228543}, {1153, 0.07126716}, {522, 0.07043339}, {448, 0.07025576}]       |\n|4            |[{1337, 0.15392794}, {979, 0.114698}, {980, 0.102167495}, {981, 0.10101768}, {3532, 0.10083738}, {1180, 0.098701306}]     |\n|5            |[{1337, 0.14620817}, {979, 0.10726859}, {980, 0.09555073}, {981, 0.09447766}, {3532, 0.093693465}, {1180, 0.09178786}]    |\n|6            |[{1337, 0.14986697}, {979, 0.114661835}, {980, 0.10217808}, {3532, 0.101793185}, {981, 0.101009406}, {1180, 0.09947837}]  |\n|7            |[{1337, 0.08591545}, {979, 0.074890465}, {3532, 0.06781997}, {980, 0.06758543}, {981, 0.06654562}, {2075, 0.066194884}]   |\n|8            |[{455, 0.109163195}, {453, 0.10865298}, {521, 0.107785955}, {1153, 0.10638763}, {522, 0.10514954}, {1289, 0.104564235}]   |\n|9            |[{1337, 0.16329032}, {979, 0.12424834}, {980, 0.11078008}, {3532, 0.109923564}, {981, 0.10949463}, {1180, 0.1074317}]     |\n|10           |[{1337, 0.16004023}, {979, 0.11933911}, {980, 0.10630152}, {981, 0.10510505}, {3532, 0.104949236}, {1180, 0.10272199}]    |\n|11           |[{1337, 0.11900356}, {979, 0.0925881}, {980, 0.084129296}, {981, 0.08270934}, {4258, 0.080077656}, {3532, 0.07916903}]    |\n|12           |[{1337, 0.11708574}, {979, 0.09606317}, {980, 0.086607225}, {3532, 0.08535487}, {981, 0.08532026}, {1180, 0.0827865}]     |\n|13           |[{455, 0.076174945}, {521, 0.07590662}, {453, 0.07532845}, {1153, 0.074144214}, {523, 0.07371018}, {522, 0.07364658}]     |\n|14           |[{1337, 0.15115286}, {979, 0.11317508}, {980, 0.10081062}, {3532, 0.099697426}, {981, 0.09967532}, {1180, 0.09755979}]    |\n|15           |[{1337, 0.13758557}, {979, 0.103346825}, {980, 0.09205591}, {3532, 0.09115956}, {981, 0.09101876}, {1180, 0.089189515}]   |\n|16           |[{1337, 0.14765002}, {979, 0.107987516}, {980, 0.096416764}, {981, 0.09526038}, {3532, 0.093670264}, {1180, 0.09169385}]  |\n|17           |[{1337, 0.1276654}, {979, 0.091788985}, {980, 0.081763245}, {981, 0.08084761}, {3532, 0.0794775}, {1180, 0.07795147}]     |\n|18           |[{1337, 0.13192226}, {979, 0.100984015}, {980, 0.08995759}, {3532, 0.0897429}, {981, 0.08893906}, {1180, 0.08771232}]     |\n|19           |[{1337, 0.15494284}, {979, 0.11660904}, {980, 0.10386906}, {3532, 0.10293908}, {981, 0.102698505}, {1180, 0.10070399}]    |\n|20           |[{1337, 0.06611512}, {979, 0.064803615}, {2075, 0.06251454}, {985, 0.06202451}, {2071, 0.06179249}, {3532, 0.059530362}]  |\n+-------------+--------------------------------------------------------------------------------------------------------------------------+\nonly showing top 20 rows\n\n+-------+----------------------------------------------------------------------------------------------------------------------------------+\n|Game_ID|recommendations                                                                                                                   |\n+-------+----------------------------------------------------------------------------------------------------------------------------------+\n|1      |[{1101, 0.0024405331}, {2113, 0.002420714}, {3542, 0.0024068293}, {2591, 0.0023826652}, {1522, 0.0023813387}, {959, 0.0023806463}]|\n|2      |[{1622, 0.009259556}, {481, 0.009234912}, {860, 0.009012446}, {26, 0.008847327}, {743, 0.008788503}, {2422, 0.00873571}]          |\n|3      |[{1622, 0.038400155}, {481, 0.03783449}, {26, 0.036551766}, {1192, 0.036255095}, {860, 0.0361957}, {743, 0.036166236}]            |\n|4      |[{1622, 0.03662865}, {481, 0.03633443}, {860, 0.0351338}, {26, 0.034944974}, {743, 0.034620315}, {1192, 0.034531727}]             |\n|5      |[{1622, 0.018180681}, {481, 0.017733471}, {26, 0.017250534}, {1192, 0.017198674}, {743, 0.01702091}, {860, 0.01668399}]           |\n|6      |[{860, 0.022287823}, {3542, 0.021705396}, {1444, 0.021674626}, {1101, 0.021639885}, {1938, 0.021470014}, {1522, 0.021264723}]     |\n|7      |[{1622, 0.014262938}, {481, 0.013942679}, {26, 0.013545239}, {1192, 0.013483742}, {743, 0.013359735}, {860, 0.013158697}]         |\n|8      |[{1622, 0.022398543}, {481, 0.022075132}, {26, 0.021377007}, {743, 0.021255564}, {1192, 0.021223703}, {860, 0.021141121}]         |\n|9      |[{1622, 0.032527573}, {481, 0.03229018}, {860, 0.03138212}, {26, 0.031005396}, {743, 0.03095975}, {1192, 0.030724078}]            |\n|10     |[{1622, 0.017218744}, {481, 0.017138833}, {860, 0.016754556}, {743, 0.016442187}, {26, 0.016412318}, {1192, 0.016260473}]         |\n|11     |[{1622, 0.06001792}, {481, 0.059315808}, {26, 0.057180695}, {860, 0.057043333}, {743, 0.056646693}, {1192, 0.056635994}]          |\n|12     |[{1622, 0.0067344173}, {481, 0.0065687634}, {26, 0.006389876}, {1192, 0.0063706655}, {743, 0.0063048187}, {860, 0.0061800187}]    |\n|13     |[{1622, 0.0045758244}, {481, 0.0045504803}, {26, 0.0044248733}, {743, 0.00441727}, {860, 0.004389475}, {1192, 0.0043646935}]      |\n|14     |[{1622, 0.023527771}, {481, 0.022949034}, {26, 0.022324061}, {1192, 0.022256946}, {743, 0.0220269}, {860, 0.021590892}]           |\n|15     |[{1622, 0.019109828}, {481, 0.018639764}, {26, 0.018132145}, {1192, 0.018077634}, {743, 0.017890783}, {860, 0.017536648}]         |\n|16     |[{1622, 0.019109828}, {481, 0.018639764}, {26, 0.018132145}, {1192, 0.018077634}, {743, 0.017890783}, {860, 0.017536648}]         |\n|17     |[{860, 0.005941935}, {481, 0.005853749}, {1622, 0.0057501253}, {743, 0.0055911955}, {2422, 0.0055904835}, {26, 0.005514373}]      |\n|18     |[{1622, 0.028952189}, {481, 0.02824002}, {26, 0.027470957}, {1192, 0.027388372}, {743, 0.027105285}, {860, 0.026568754}]          |\n|19     |[{1622, 0.017553205}, {481, 0.017121429}, {26, 0.01665516}, {1192, 0.016605088}, {743, 0.016433459}, {860, 0.01610817}]           |\n|20     |[{481, 0.010363459}, {1622, 0.010326853}, {860, 0.010207613}, {26, 0.009888912}, {743, 0.009836012}, {2422, 0.009820225}]         |\n+-------+----------------------------------------------------------------------------------------------------------------------------------+\nonly showing top 20 rows\n\n"
     ]
    }
   ],
   "source": [
    "userRecs = Model.recommendForAllUsers(6)\n",
    "userRecs.sort(\"UserID_Unique\",ascending=True).show(truncate=False)\n",
    "\n",
    "gameRecommendation = Model.recommendForAllItems(6)\n",
    "gameRecommendation.sort(\"Game_ID\", ascending=True).show(truncate = False)"
   ]
  },
  {
   "cell_type": "code",
   "execution_count": 0,
   "metadata": {
    "application/vnd.databricks.v1+cell": {
     "cellMetadata": {
      "byteLimit": 2048000,
      "rowLimit": 10000
     },
     "inputWidgets": {},
     "nuid": "c5d7f060-6df3-416a-8d0b-bc21d45ce8a8",
     "showTitle": false,
     "title": ""
    }
   },
   "outputs": [
    {
     "output_type": "stream",
     "name": "stdout",
     "output_type": "stream",
     "text": [
      "+-------+-------------------------------+-----------+\n|Game_ID|GameName                       |rating     |\n+-------+-------------------------------+-----------+\n|521    |BioShock                       |0.015768904|\n|523    |BioShock Infinite              |0.015734158|\n|455    |Batman Arkham City GOTY        |0.015556798|\n|1683   |Fallout New Vegas Honest Hearts|0.015542489|\n|1289   |Dishonored                     |0.015362216|\n|1682   |Fallout New Vegas Dead Money   |0.015255743|\n+-------+-------------------------------+-----------+\n\n"
     ]
    }
   ],
   "source": [
    "from pyspark.sql.functions import explode\n",
    "# Top 6 recommendation games - user specific\n",
    "DF = userRecs.where(userRecs.UserID_Unique==1985)\\\n",
    "        .withColumn(\"recommendations\",explode(\"recommendations\"))\\\n",
    "        .select(\"recommendations.Game_ID\",\"recommendations.rating\")\\\n",
    "        .join(Stream_DF_Final,[\"Game_ID\"])\\\n",
    "        .select(\"Game_ID\",\"GameName\",\"rating\")\\\n",
    "        .distinct()\\\n",
    "        .sort(\"rating\", ascending=False)\\\n",
    "        .show(truncate=False)"
   ]
  },
  {
   "cell_type": "code",
   "execution_count": 0,
   "metadata": {
    "application/vnd.databricks.v1+cell": {
     "cellMetadata": {
      "byteLimit": 2048000,
      "rowLimit": 10000
     },
     "inputWidgets": {},
     "nuid": "899a506b-3e41-47a5-b2a6-b9ea38840bff",
     "showTitle": false,
     "title": ""
    }
   },
   "outputs": [
    {
     "output_type": "stream",
     "name": "stdout",
     "output_type": "stream",
     "text": [
      "+-------------+-----------+\n|UserID_Unique|rating     |\n+-------------+-----------+\n|3726         |0.109250344|\n|4033         |0.10872434 |\n|4815         |0.10426469 |\n|10209        |0.10399198 |\n|1579         |0.10354516 |\n|594          |0.101460464|\n+-------------+-----------+\n\n"
     ]
    }
   ],
   "source": [
    "# Top 6 recommendation users - Games specific\n",
    "gameRecommendation.where(gameRecommendation.Game_ID==4258)\\\n",
    "        .withColumn(\"recommendations\",explode(\"recommendations\"))\\\n",
    "        .select(\"recommendations.UserID_Unique\",\"recommendations.rating\")\\\n",
    "        .join(Stream_DF_Final,[\"UserID_Unique\"])\\\n",
    "        .select(\"UserID_Unique\",\"rating\")\\\n",
    "        .distinct()\\\n",
    "        .sort(\"rating\", ascending=False)\\\n",
    "        .show(truncate=False)"
   ]
  },
  {
   "cell_type": "code",
   "execution_count": 0,
   "metadata": {
    "application/vnd.databricks.v1+cell": {
     "cellMetadata": {
      "byteLimit": 2048000,
      "rowLimit": 10000
     },
     "inputWidgets": {},
     "nuid": "c71225fe-f88d-4146-ad0a-de0a9f58ebdb",
     "showTitle": false,
     "title": ""
    }
   },
   "outputs": [
    {
     "output_type": "stream",
     "name": "stdout",
     "output_type": "stream",
     "text": [
      "+-------+-------------------------------------------------------------------------------------------------------------------------------------------------------------------------------------------------------------------+\n|Game_ID|recommendations                                                                                                                                                                                                    |\n+-------+-------------------------------------------------------------------------------------------------------------------------------------------------------------------------------------------------------------------+\n|12     |[{1622, 0.0067344173}, {481, 0.0065687634}, {26, 0.006389876}, {1192, 0.0063706655}, {743, 0.0063048187}, {860, 0.0061800187}, {2422, 0.0061668796}, {658, 0.006158406}, {785, 0.0060499003}, {5606, 0.0060081007}]|\n|22     |[{1622, 0.017553205}, {481, 0.017121429}, {26, 0.01665516}, {1192, 0.016605088}, {743, 0.016433459}, {860, 0.01610817}, {2422, 0.016073924}, {658, 0.016051836}, {785, 0.015769018}, {5606, 0.015660066}]          |\n|26     |[{481, 0.051583502}, {860, 0.051348504}, {1622, 0.05101284}, {26, 0.048989642}, {2422, 0.04898684}, {743, 0.04868825}, {1192, 0.04788446}, {867, 0.047868833}, {1390, 0.046894543}, {1967, 0.04658028}]            |\n|27     |[{1622, 0.013603173}, {481, 0.013276152}, {26, 0.012910198}, {1192, 0.012866229}, {743, 0.012737057}, {860, 0.012500674}, {2422, 0.012465701}, {658, 0.012431885}, {785, 0.012210412}, {5606, 0.012117915}]        |\n|28     |[{481, 0.049789287}, {1622, 0.049423143}, {860, 0.0492384}, {26, 0.04741958}, {2422, 0.047211595}, {743, 0.047008023}, {1192, 0.046410993}, {867, 0.04599673}, {1390, 0.045007672}, {1967, 0.044720747}]           |\n+-------+-------------------------------------------------------------------------------------------------------------------------------------------------------------------------------------------------------------------+\n\n"
     ]
    }
   ],
   "source": [
    "# Top 5 games recommendations\n",
    "games_sel = gameRecommendation.select(als.getItemCol()).distinct().limit(5)\n",
    "gameSubSetRecs = Model.recommendForItemSubset(games_sel, 10)\n",
    "gameSubSetRecs.show(truncate = False)"
   ]
  },
  {
   "cell_type": "code",
   "execution_count": 0,
   "metadata": {
    "application/vnd.databricks.v1+cell": {
     "cellMetadata": {
      "byteLimit": 2048000,
      "rowLimit": 10000
     },
     "inputWidgets": {},
     "nuid": "d0aa0bc0-4d86-4d51-9ef1-0b90040e298d",
     "showTitle": false,
     "title": ""
    }
   },
   "outputs": [
    {
     "output_type": "stream",
     "name": "stdout",
     "output_type": "stream",
     "text": [
      "+-------------+---------+-------+--------------+--------+----+------------+-----------+\n|UserID_Unique|UserID   |Game_ID|GameName      |Purchase|Play|Hours_Played|prediction |\n+-------------+---------+-------+--------------+--------+----+------------+-----------+\n|5175         |144578181|1337   |Dota 2        |1       |1   |28.0        |0.16507299 |\n|8248         |200759485|1337   |Dota 2        |1       |1   |0.4         |0.16392577 |\n|2199         |75689918 |1337   |Dota 2        |1       |1   |9.5         |0.16330025 |\n|238          |12529679 |1337   |Dota 2        |1       |1   |0.5         |0.1587666  |\n|4490         |129371925|1337   |Dota 2        |1       |1   |355.0       |0.15662536 |\n|3905         |115655987|1337   |Dota 2        |1       |1   |601.0       |0.14804275 |\n|6821         |176449171|1337   |Dota 2        |1       |1   |1310.0      |0.14206569 |\n|1093         |44153929 |1337   |Dota 2        |1       |1   |1.8         |0.14086671 |\n|7353         |186069406|1337   |Dota 2        |1       |1   |1971.0      |0.1379103  |\n|432          |22605909 |1337   |Dota 2        |1       |1   |1.9         |0.12891325 |\n|364          |19062398 |979    |Counter-Strike|1       |1   |33.0        |0.1257593  |\n|958          |39524248 |979    |Counter-Strike|1       |0   |0.0         |0.12505388 |\n|495          |25337857 |1337   |Dota 2        |1       |1   |0.6         |0.124923475|\n|52           |2087859  |979    |Counter-Strike|1       |0   |0.0         |0.12392452 |\n|407          |21406272 |979    |Counter-Strike|1       |1   |2.2         |0.12370276 |\n|4113         |120838793|1337   |Dota 2        |1       |1   |5.5         |0.12242696 |\n|1433         |55120589 |979    |Counter-Strike|1       |1   |4.6         |0.12236349 |\n|1043         |42492910 |979    |Counter-Strike|1       |1   |1223.0      |0.121910505|\n|470          |24334631 |979    |Counter-Strike|1       |1   |1.0         |0.12182901 |\n|721          |31944667 |979    |Counter-Strike|1       |1   |4.3         |0.12182901 |\n+-------------+---------+-------+--------------+--------+----+------------+-----------+\nonly showing top 20 rows\n\n"
     ]
    }
   ],
   "source": [
    "predictions.sort(\"prediction\", ascending=False).show(truncate=False)"
   ]
  },
  {
   "cell_type": "markdown",
   "metadata": {
    "application/vnd.databricks.v1+cell": {
     "cellMetadata": {
      "byteLimit": 2048000,
      "rowLimit": 10000
     },
     "inputWidgets": {},
     "nuid": "d8b1f1f4-51a8-4499-9d43-679dffdc2e83",
     "showTitle": false,
     "title": ""
    }
   },
   "source": [
    "## Implementation with 80% train and 20% test based on Hours_Played with crossvalidator"
   ]
  },
  {
   "cell_type": "code",
   "execution_count": 0,
   "metadata": {
    "application/vnd.databricks.v1+cell": {
     "cellMetadata": {
      "byteLimit": 2048000,
      "rowLimit": 10000
     },
     "inputWidgets": {},
     "nuid": "60311ca8-48b5-4bee-92a7-39a1a908cb94",
     "showTitle": false,
     "title": ""
    }
   },
   "outputs": [],
   "source": [
    "(training, test) = Stream_DF_Final.randomSplit([0.8 , 0.2])"
   ]
  },
  {
   "cell_type": "code",
   "execution_count": 0,
   "metadata": {
    "application/vnd.databricks.v1+cell": {
     "cellMetadata": {
      "byteLimit": 2048000,
      "implicitDf": true,
      "rowLimit": 10000
     },
     "inputWidgets": {},
     "nuid": "9bccfa53-462a-47a0-8d24-dfdfe16d184a",
     "showTitle": false,
     "title": ""
    }
   },
   "outputs": [],
   "source": [
    "als = ALS(nonnegative = True, implicitPrefs=True,coldStartStrategy=\"drop\",userCol=\"UserID_Unique\", itemCol=\"Game_ID\",ratingCol=\"Hours_Played\",seed=120, alpha=1)\n",
    "\n",
    "Evaluator = RegressionEvaluator(\n",
    "           metricName=\"rmse\", \n",
    "           labelCol=\"Hours_Played\", \n",
    "           predictionCol=\"prediction\") "
   ]
  },
  {
   "cell_type": "markdown",
   "metadata": {
    "application/vnd.databricks.v1+cell": {
     "cellMetadata": {
      "byteLimit": 2048000,
      "rowLimit": 10000
     },
     "inputWidgets": {},
     "nuid": "3a7c9f2b-0cc0-4aa3-a496-dcbdc227a557",
     "showTitle": false,
     "title": ""
    }
   },
   "source": [
    "** Hyperparameter Setting **"
   ]
  },
  {
   "cell_type": "code",
   "execution_count": 0,
   "metadata": {
    "application/vnd.databricks.v1+cell": {
     "cellMetadata": {
      "byteLimit": 2048000,
      "implicitDf": true,
      "rowLimit": 10000
     },
     "inputWidgets": {},
     "nuid": "2b85486c-bbf1-476e-b5db-35a1ded1b418",
     "showTitle": false,
     "title": ""
    }
   },
   "outputs": [
    {
     "output_type": "stream",
     "name": "stdout",
     "output_type": "stream",
     "text": [
      "No. of models to be tested:  12\n"
     ]
    }
   ],
   "source": [
    "HyperParamter = ParamGridBuilder() \\\n",
    "            .addGrid(als.rank, [5, 10]) \\\n",
    "            .addGrid(als.regParam, [.01, 0.05, 1]) \\\n",
    "            .addGrid(als.maxIter, [5, 10])  \\\n",
    "            .build()\n",
    "\n",
    "print (\"No. of models to be tested: \", len(HyperParamter))"
   ]
  },
  {
   "cell_type": "markdown",
   "metadata": {
    "application/vnd.databricks.v1+cell": {
     "cellMetadata": {
      "byteLimit": 2048000,
      "rowLimit": 10000
     },
     "inputWidgets": {},
     "nuid": "089ce1c1-3d1f-4c3b-8b46-44f241555f88",
     "showTitle": false,
     "title": ""
    }
   },
   "source": [
    "** Defining Evaluator and metrics **"
   ]
  },
  {
   "cell_type": "code",
   "execution_count": 0,
   "metadata": {
    "application/vnd.databricks.v1+cell": {
     "cellMetadata": {
      "byteLimit": 2048000,
      "rowLimit": 10000
     },
     "inputWidgets": {},
     "nuid": "a58a434f-4535-4ae8-b259-d7c6fd5336bb",
     "showTitle": false,
     "title": ""
    }
   },
   "outputs": [],
   "source": [
    "Evaluator = RegressionEvaluator(\n",
    "           metricName=\"rmse\", \n",
    "           labelCol=\"Hours_Played\", \n",
    "           predictionCol=\"prediction\") "
   ]
  },
  {
   "cell_type": "markdown",
   "metadata": {
    "application/vnd.databricks.v1+cell": {
     "cellMetadata": {
      "byteLimit": 2048000,
      "rowLimit": 10000
     },
     "inputWidgets": {},
     "nuid": "d2c7fbfa-acdd-443d-b98e-311b6b074c6f",
     "showTitle": false,
     "title": ""
    }
   },
   "source": [
    "** Building Cross Validator with numfolds 3 to split Train and Test Data **"
   ]
  },
  {
   "cell_type": "code",
   "execution_count": 0,
   "metadata": {
    "application/vnd.databricks.v1+cell": {
     "cellMetadata": {
      "byteLimit": 2048000,
      "rowLimit": 10000
     },
     "inputWidgets": {},
     "nuid": "6dfdcdc4-5a2f-47be-810f-fc2540a91cfe",
     "showTitle": false,
     "title": ""
    }
   },
   "outputs": [],
   "source": [
    "cv = CrossValidator(estimator=als, estimatorParamMaps=HyperParamter, evaluator=Evaluator, numFolds=3)"
   ]
  },
  {
   "cell_type": "markdown",
   "metadata": {
    "application/vnd.databricks.v1+cell": {
     "cellMetadata": {
      "byteLimit": 2048000,
      "rowLimit": 10000
     },
     "inputWidgets": {},
     "nuid": "c66653d3-d829-4953-8c78-070de8dfd8b6",
     "showTitle": false,
     "title": ""
    }
   },
   "source": [
    "** Fit the Model to train data**"
   ]
  },
  {
   "cell_type": "code",
   "execution_count": 0,
   "metadata": {
    "application/vnd.databricks.v1+cell": {
     "cellMetadata": {
      "byteLimit": 2048000,
      "rowLimit": 10000
     },
     "inputWidgets": {},
     "nuid": "52f8ab0c-649c-44c3-bc92-715b454e146e",
     "showTitle": false,
     "title": ""
    }
   },
   "outputs": [
    {
     "output_type": "stream",
     "name": "stderr",
     "output_type": "stream",
     "text": [
      "2024/04/07 09:14:21 INFO mlflow.utils.autologging_utils: Created MLflow autologging run with ID 'd4633006edf44ed3996bf2da0e5e3d7b', which will track hyperparameters, performance metrics, model artifacts, and lineage information for the current pyspark.ml workflow\n2024/04/07 09:35:56 WARNING mlflow.pyspark.ml: Model CrossValidatorModel_5d54f21d0162 will not be autologged because it is not allowlisted or or because one or more of its nested models are not allowlisted. Call mlflow.spark.log_model() to explicitly log the model, or specify a custom allowlist via the spark.mlflow.pysparkml.autolog.logModelAllowlistFile Spark conf (see mlflow.pyspark.ml.autolog docs for more info).\n"
     ]
    }
   ],
   "source": [
    "Model = cv.fit(training)"
   ]
  },
  {
   "cell_type": "markdown",
   "metadata": {
    "application/vnd.databricks.v1+cell": {
     "cellMetadata": {
      "byteLimit": 2048000,
      "rowLimit": 10000
     },
     "inputWidgets": {},
     "nuid": "a881ac57-517e-460f-b48c-670cc29240b0",
     "showTitle": false,
     "title": ""
    }
   },
   "source": [
    "** Extracting the Best Model **"
   ]
  },
  {
   "cell_type": "code",
   "execution_count": 0,
   "metadata": {
    "application/vnd.databricks.v1+cell": {
     "cellMetadata": {
      "byteLimit": 2048000,
      "rowLimit": 10000
     },
     "inputWidgets": {},
     "nuid": "2f5b58e4-9c1c-4349-9d0a-ec233ef75ff7",
     "showTitle": false,
     "title": ""
    }
   },
   "outputs": [],
   "source": [
    "#Extract best model from the cv model above\n",
    "Best_model = Model.bestModel"
   ]
  },
  {
   "cell_type": "markdown",
   "metadata": {
    "application/vnd.databricks.v1+cell": {
     "cellMetadata": {
      "byteLimit": 2048000,
      "rowLimit": 10000
     },
     "inputWidgets": {},
     "nuid": "f06032e3-a7e0-446b-8ce4-8b5078bb95e4",
     "showTitle": false,
     "title": ""
    }
   },
   "source": [
    "** View the Predictions **"
   ]
  },
  {
   "cell_type": "code",
   "execution_count": 0,
   "metadata": {
    "application/vnd.databricks.v1+cell": {
     "cellMetadata": {
      "byteLimit": 2048000,
      "rowLimit": 10000
     },
     "inputWidgets": {},
     "nuid": "6f5f30e6-134e-4864-ae96-fb5b974a8230",
     "showTitle": false,
     "title": ""
    }
   },
   "outputs": [
    {
     "output_type": "stream",
     "name": "stdout",
     "output_type": "stream",
     "text": [
      "155.92720084575782\n"
     ]
    }
   ],
   "source": [
    "Pred_Test = Best_model.transform(test)\n",
    "RMSE = Evaluator.evaluate(Pred_Test)\n",
    "print(RMSE)"
   ]
  },
  {
   "cell_type": "markdown",
   "metadata": {
    "application/vnd.databricks.v1+cell": {
     "cellMetadata": {
      "byteLimit": 2048000,
      "rowLimit": 10000
     },
     "inputWidgets": {},
     "nuid": "b115d503-e838-4c28-90d8-bf783bfe9d4c",
     "showTitle": false,
     "title": ""
    }
   },
   "source": [
    "** Best Model **"
   ]
  },
  {
   "cell_type": "code",
   "execution_count": 0,
   "metadata": {
    "application/vnd.databricks.v1+cell": {
     "cellMetadata": {
      "byteLimit": 2048000,
      "implicitDf": true,
      "rowLimit": 10000
     },
     "inputWidgets": {},
     "nuid": "845788b4-cf54-4f94-a084-0fc96886f40a",
     "showTitle": false,
     "title": ""
    }
   },
   "outputs": [
    {
     "output_type": "stream",
     "name": "stdout",
     "output_type": "stream",
     "text": [
      "Parameters for best Model:\nRank Parameter: 5\nRegParam Parameter: 0.01\nmaxIter Parameter: 10\n"
     ]
    }
   ],
   "source": [
    "print(\"Parameters for best Model:\")\n",
    "\n",
    "print(\"Rank Parameter: %g\" %Best_model.rank)\n",
    "print(\"RegParam Parameter: %g\" %Best_model._java_obj.parent().getRegParam())\n",
    "print(\"maxIter Parameter: %g\" %Best_model._java_obj.parent().getMaxIter())"
   ]
  },
  {
   "cell_type": "code",
   "execution_count": 0,
   "metadata": {
    "application/vnd.databricks.v1+cell": {
     "cellMetadata": {
      "byteLimit": 2048000,
      "implicitDf": true,
      "rowLimit": 10000
     },
     "inputWidgets": {},
     "nuid": "02f7048d-9f65-4cef-a1dd-20b3a2c256f5",
     "showTitle": false,
     "title": ""
    }
   },
   "outputs": [
    {
     "output_type": "stream",
     "name": "stdout",
     "output_type": "stream",
     "text": [
      "+-------------+-------------------------------------------------------------------------------------------------------------------------+\n|UserID_Unique|recommendations                                                                                                          |\n+-------------+-------------------------------------------------------------------------------------------------------------------------+\n|1            |[{979, 1.2103281}, {738, 1.0707752}, {1680, 1.0440834}, {728, 1.017122}, {737, 1.0026753}, {1553, 0.97379357}]           |\n|2            |[{1337, 1.2675005}, {4789, 1.2617447}, {1979, 1.1538719}, {874, 1.135001}, {3066, 1.1240717}, {1895, 1.101735}]          |\n|3            |[{1337, 0.54110134}, {982, 0.4820156}, {4365, 0.46802574}, {4258, 0.45557258}, {985, 0.44163045}, {2476, 0.4197257}]     |\n|4            |[{70, 0.0}, {69, 0.0}, {66, 0.0}, {60, 0.0}, {59, 0.0}, {58, 0.0}]                                                       |\n|5            |[{979, 0.0615364}, {738, 0.05740731}, {737, 0.05236688}, {980, 0.05160415}, {728, 0.050555605}, {1553, 0.04336265}]      |\n|6            |[{979, 0.011707494}, {738, 0.010852868}, {737, 0.009930143}, {980, 0.009740525}, {728, 0.009645315}, {1553, 0.008393004}]|\n|7            |[{979, 1.0233277}, {738, 0.95466244}, {737, 0.870842}, {980, 0.8581581}, {728, 0.8407212}, {1553, 0.7211049}]            |\n|8            |[{1761, 1.1684474}, {1760, 1.1316625}, {175, 1.121847}, {1337, 1.120805}, {4315, 1.1043334}, {1326, 1.096724}]           |\n|9            |[{70, 0.0}, {69, 0.0}, {66, 0.0}, {60, 0.0}, {59, 0.0}, {58, 0.0}]                                                       |\n|10           |[{979, 0.19253355}, {738, 0.17961456}, {737, 0.16384418}, {980, 0.16145779}, {728, 0.15817712}, {1553, 0.13567197}]      |\n|11           |[{1337, 1.047255}, {982, 0.98140025}, {985, 0.9543693}, {4258, 0.8685162}, {4365, 0.80729735}, {3826, 0.7023994}]        |\n|12           |[{1337, 1.1442194}, {982, 1.0366077}, {985, 0.95168984}, {4258, 0.9435815}, {4365, 0.8474781}, {2476, 0.7686608}]        |\n|13           |[{738, 1.2764788}, {1337, 1.2055229}, {979, 1.0702363}, {737, 1.0555669}, {3224, 1.053957}, {620, 1.0177965}]            |\n|14           |[{70, 0.0}, {69, 0.0}, {66, 0.0}, {60, 0.0}, {59, 0.0}, {58, 0.0}]                                                       |\n|15           |[{70, 0.0}, {69, 0.0}, {66, 0.0}, {60, 0.0}, {59, 0.0}, {58, 0.0}]                                                       |\n|16           |[{1337, 0.9359168}, {982, 0.8724333}, {985, 0.84776753}, {4258, 0.771032}, {4365, 0.7081242}, {979, 0.6409027}]          |\n|17           |[{979, 0.087072}, {738, 0.08122946}, {737, 0.074097425}, {980, 0.07301819}, {728, 0.07153453}, {1553, 0.06135673}]       |\n|18           |[{70, 0.0}, {69, 0.0}, {66, 0.0}, {60, 0.0}, {59, 0.0}, {58, 0.0}]                                                       |\n|19           |[{1337, 0.21365948}, {982, 0.20124853}, {985, 0.19504192}, {4258, 0.1796603}, {4365, 0.17236}, {3826, 0.15026145}]       |\n|20           |[{1337, 1.1494621}, {982, 1.0050833}, {4258, 0.94313985}, {985, 0.89407873}, {4365, 0.82511574}, {2476, 0.8100217}]      |\n+-------------+-------------------------------------------------------------------------------------------------------------------------+\nonly showing top 20 rows\n\n"
     ]
    }
   ],
   "source": [
    "userRecs = Best_model.recommendForAllUsers(6)\n",
    "userRecs.sort(\"UserID_Unique\",ascending=True).show(truncate=False)"
   ]
  },
  {
   "cell_type": "code",
   "execution_count": 0,
   "metadata": {
    "application/vnd.databricks.v1+cell": {
     "cellMetadata": {
      "byteLimit": 2048000,
      "implicitDf": true,
      "rowLimit": 10000
     },
     "inputWidgets": {},
     "nuid": "ef627a1c-4c96-4a19-b11c-ae545d76cbd9",
     "showTitle": false,
     "title": ""
    }
   },
   "outputs": [
    {
     "output_type": "stream",
     "name": "stdout",
     "output_type": "stream",
     "text": [
      "+-------+--------------------------------------------------------------------------------------------------------------------------------+\n|Game_ID|recommendations                                                                                                                 |\n+-------+--------------------------------------------------------------------------------------------------------------------------------+\n|1      |[{729, 0.0077798194}, {1108, 0.006240012}, {864, 0.0058206413}, {1307, 0.005650445}, {1150, 0.005537675}, {1423, 0.0054618404}] |\n|2      |[{729, 0.008158024}, {278, 0.005920442}, {864, 0.0053600217}, {4390, 0.0053321174}, {1188, 0.005241002}, {533, 0.005205419}]    |\n|3      |[{1361, 0.08236805}, {1192, 0.07548216}, {3683, 0.07454783}, {3446, 0.07408528}, {3170, 0.07407507}, {1626, 0.07293965}]        |\n|4      |[{729, 0.021614678}, {1750, 0.014334912}, {3265, 0.014196817}, {1135, 0.01415117}, {1108, 0.013928233}, {2643, 0.013379663}]    |\n|5      |[{1361, 0.020827185}, {3683, 0.019291926}, {3170, 0.019123413}, {3446, 0.018832719}, {1192, 0.018627245}, {1626, 0.018591978}]  |\n|6      |[{3170, 0.09015834}, {3446, 0.088991806}, {1361, 0.088154234}, {212, 0.08506687}, {1192, 0.079859935}, {865, 0.07745329}]       |\n|7      |[{1361, 0.004504093}, {3170, 0.004155009}, {3446, 0.004143951}, {3683, 0.0041069286}, {1192, 0.0039769416}, {212, 0.0038684336}]|\n|8      |[{1361, 0.106728755}, {1192, 0.10630636}, {533, 0.10425347}, {1730, 0.1016216}, {278, 0.098798804}, {1391, 0.09831784}]         |\n|9      |[{1361, 0.081959575}, {3446, 0.07595127}, {3170, 0.075618125}, {3683, 0.07368016}, {1192, 0.071575366}, {212, 0.07040903}]      |\n|10     |[{1361, 0.037632365}, {1192, 0.034813695}, {3446, 0.034444872}, {533, 0.033635076}, {3170, 0.033288326}, {212, 0.033102077}]    |\n|11     |[{1361, 0.02339953}, {3446, 0.02176796}, {3170, 0.021651147}, {3683, 0.02111705}, {1192, 0.020488022}, {212, 0.02017953}]       |\n|12     |[{1361, 0.005071801}, {3446, 0.00469376}, {3170, 0.004674759}, {3683, 0.004553406}, {1192, 0.004425249}, {212, 0.0043512513}]   |\n|13     |[{60, 0.0}, {59, 0.0}, {58, 0.0}, {57, 0.0}, {56, 0.0}, {55, 0.0}]                                                              |\n|14     |[{1361, 0.039239094}, {1192, 0.03611669}, {3446, 0.03597096}, {3170, 0.034860354}, {533, 0.034855217}, {212, 0.034451593}]      |\n|15     |[{60, 0.0}, {59, 0.0}, {58, 0.0}, {57, 0.0}, {56, 0.0}, {55, 0.0}]                                                              |\n|17     |[{1192, 0.02614965}, {1361, 0.025868868}, {533, 0.025732988}, {729, 0.025647668}, {278, 0.02517772}, {1730, 0.025050757}]       |\n|18     |[{60, 0.0}, {59, 0.0}, {58, 0.0}, {57, 0.0}, {56, 0.0}, {55, 0.0}]                                                              |\n|20     |[{60, 0.0}, {59, 0.0}, {58, 0.0}, {57, 0.0}, {56, 0.0}, {55, 0.0}]                                                              |\n|21     |[{60, 0.0}, {59, 0.0}, {58, 0.0}, {57, 0.0}, {56, 0.0}, {55, 0.0}]                                                              |\n|22     |[{1361, 0.01832653}, {1192, 0.017439066}, {533, 0.016951164}, {3446, 0.016627558}, {1730, 0.016520433}, {212, 0.0162891}]       |\n+-------+--------------------------------------------------------------------------------------------------------------------------------+\nonly showing top 20 rows\n\n"
     ]
    }
   ],
   "source": [
    "gameRecommendation = Best_model.recommendForAllItems(6)\n",
    "gameRecommendation.sort(\"Game_ID\", ascending=True).show(truncate = False)"
   ]
  },
  {
   "cell_type": "code",
   "execution_count": 0,
   "metadata": {
    "application/vnd.databricks.v1+cell": {
     "cellMetadata": {
      "byteLimit": 2048000,
      "implicitDf": true,
      "rowLimit": 10000
     },
     "inputWidgets": {},
     "nuid": "70f28b4d-3517-4251-8b5e-e1e891b5f88b",
     "showTitle": false,
     "title": ""
    }
   },
   "outputs": [
    {
     "output_type": "stream",
     "name": "stdout",
     "output_type": "stream",
     "text": [
      "+-------+-----------------------------------+---------+\n|Game_ID|GameName                           |rating   |\n+-------+-----------------------------------+---------+\n|1979   |Grand Theft Auto V                 |1.1562202|\n|1500   |Empire Total War                   |1.1442862|\n|4668   |Total War ROME II - Emperor Edition|1.1092033|\n|85     |ARK Survival Evolved               |1.0695336|\n|4669   |Total War SHOGUN 2                 |1.0640445|\n|985    |Counter-Strike Source              |1.0470443|\n+-------+-----------------------------------+---------+\n\n"
     ]
    }
   ],
   "source": [
    "from pyspark.sql.functions import explode\n",
    "# Top 6 recommendation games - user specific\n",
    "DF = userRecs.where(userRecs.UserID_Unique==1985)\\\n",
    "        .withColumn(\"recommendations\",explode(\"recommendations\"))\\\n",
    "        .select(\"recommendations.Game_ID\",\"recommendations.rating\")\\\n",
    "        .join(Stream_DF_Final,[\"Game_ID\"])\\\n",
    "        .select(\"Game_ID\",\"GameName\",\"rating\")\\\n",
    "        .distinct()\\\n",
    "        .sort(\"rating\", ascending=False)\\\n",
    "        .show(truncate=False)"
   ]
  },
  {
   "cell_type": "code",
   "execution_count": 0,
   "metadata": {
    "application/vnd.databricks.v1+cell": {
     "cellMetadata": {
      "byteLimit": 2048000,
      "implicitDf": true,
      "rowLimit": 10000
     },
     "inputWidgets": {},
     "nuid": "01425ee0-ed41-4a95-85fd-5cdb2e431253",
     "showTitle": false,
     "title": ""
    }
   },
   "outputs": [
    {
     "output_type": "stream",
     "name": "stdout",
     "output_type": "stream",
     "text": [
      "+-------------+---------+\n|UserID_Unique|rating   |\n+-------------+---------+\n|4069         |2.8553896|\n|4062         |2.103475 |\n|8661         |2.079812 |\n|818          |1.9049056|\n|3376         |1.7585299|\n|3265         |1.56088  |\n+-------------+---------+\n\n"
     ]
    }
   ],
   "source": [
    "# Top 6 recommendation users - Games specific\n",
    "gameRecommendation.where(gameRecommendation.Game_ID==4258)\\\n",
    "        .withColumn(\"recommendations\",explode(\"recommendations\"))\\\n",
    "        .select(\"recommendations.UserID_Unique\",\"recommendations.rating\")\\\n",
    "        .join(Stream_DF_Final,[\"UserID_Unique\"])\\\n",
    "        .select(\"UserID_Unique\",\"rating\")\\\n",
    "        .distinct()\\\n",
    "        .sort(\"rating\", ascending=False)\\\n",
    "        .show(truncate=False)\n"
   ]
  },
  {
   "cell_type": "code",
   "execution_count": 0,
   "metadata": {
    "application/vnd.databricks.v1+cell": {
     "cellMetadata": {
      "byteLimit": 2048000,
      "rowLimit": 10000
     },
     "inputWidgets": {},
     "nuid": "331f761c-fea1-4bfc-a286-f086361de785",
     "showTitle": false,
     "title": ""
    }
   },
   "outputs": [
    {
     "output_type": "stream",
     "name": "stdout",
     "output_type": "stream",
     "text": [
      "+-------------+---------+-------+--------------+--------+----+------------+-----------+\n|UserID_Unique|UserID   |Game_ID|GameName      |Purchase|Play|Hours_Played|prediction |\n+-------------+---------+-------+--------------+--------+----+------------+-----------+\n|5175         |144578181|1337   |Dota 2        |1       |1   |28.0        |0.16507299 |\n|8248         |200759485|1337   |Dota 2        |1       |1   |0.4         |0.16392577 |\n|2199         |75689918 |1337   |Dota 2        |1       |1   |9.5         |0.16330025 |\n|238          |12529679 |1337   |Dota 2        |1       |1   |0.5         |0.1587666  |\n|4490         |129371925|1337   |Dota 2        |1       |1   |355.0       |0.15662536 |\n|3905         |115655987|1337   |Dota 2        |1       |1   |601.0       |0.14804275 |\n|6821         |176449171|1337   |Dota 2        |1       |1   |1310.0      |0.14206569 |\n|1093         |44153929 |1337   |Dota 2        |1       |1   |1.8         |0.14086671 |\n|7353         |186069406|1337   |Dota 2        |1       |1   |1971.0      |0.1379103  |\n|432          |22605909 |1337   |Dota 2        |1       |1   |1.9         |0.12891325 |\n|364          |19062398 |979    |Counter-Strike|1       |1   |33.0        |0.1257593  |\n|958          |39524248 |979    |Counter-Strike|1       |0   |0.0         |0.12505388 |\n|495          |25337857 |1337   |Dota 2        |1       |1   |0.6         |0.124923475|\n|52           |2087859  |979    |Counter-Strike|1       |0   |0.0         |0.12392452 |\n|407          |21406272 |979    |Counter-Strike|1       |1   |2.2         |0.12370276 |\n|4113         |120838793|1337   |Dota 2        |1       |1   |5.5         |0.12242696 |\n|1433         |55120589 |979    |Counter-Strike|1       |1   |4.6         |0.12236349 |\n|1043         |42492910 |979    |Counter-Strike|1       |1   |1223.0      |0.121910505|\n|470          |24334631 |979    |Counter-Strike|1       |1   |1.0         |0.12182901 |\n|721          |31944667 |979    |Counter-Strike|1       |1   |4.3         |0.12182901 |\n+-------------+---------+-------+--------------+--------+----+------------+-----------+\nonly showing top 20 rows\n\n"
     ]
    }
   ],
   "source": [
    "predictions.sort(\"prediction\", ascending=False).show(truncate=False)"
   ]
  }
 ],
 "metadata": {
  "application/vnd.databricks.v1+notebook": {
   "dashboards": [],
   "language": "python",
   "notebookMetadata": {
    "mostRecentlyExecutedCommandWithImplicitDF": {
     "commandId": -1,
     "dataframes": [
      "_sqldf"
     ]
    },
    "pythonIndentUnit": 4
   },
   "notebookName": "Thavaseelan_Mohan_ml",
   "widgets": {}
  }
 },
 "nbformat": 4,
 "nbformat_minor": 0
}
